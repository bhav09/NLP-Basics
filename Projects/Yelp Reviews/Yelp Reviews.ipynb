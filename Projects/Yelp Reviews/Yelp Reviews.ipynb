{
 "cells": [
  {
   "cell_type": "markdown",
   "metadata": {},
   "source": [
    "## Dataset: https://www.kaggle.com/luisfredgs/yelp-reviews-csv"
   ]
  },
  {
   "cell_type": "code",
   "execution_count": 1,
   "metadata": {},
   "outputs": [],
   "source": [
    "#dependecies\n",
    "import pandas as pd\n",
    "import numpy as np\n",
    "import torch \n",
    "import torch.nn as nn\n",
    "import torch.optim as optim\n",
    "from torch.utils.data import DataLoader,Dataset\n",
    "import torch.nn.functional as F\n",
    "from sklearn.feature_extraction.text import TfidfVectorizer"
   ]
  },
  {
   "cell_type": "code",
   "execution_count": 2,
   "metadata": {},
   "outputs": [
    {
     "data": {
      "text/plain": [
       "device(type='cuda')"
      ]
     },
     "execution_count": 2,
     "metadata": {},
     "output_type": "execute_result"
    }
   ],
   "source": [
    "device=torch.device('cuda' if torch.cuda.is_available() else 'cpu')\n",
    "device"
   ]
  },
  {
   "cell_type": "code",
   "execution_count": 3,
   "metadata": {},
   "outputs": [],
   "source": [
    "PATH='D:/Data Sets/Yelp Reviews CSV/yelp_review.csv'"
   ]
  },
  {
   "cell_type": "code",
   "execution_count": 4,
   "metadata": {},
   "outputs": [
    {
     "name": "stdout",
     "output_type": "stream",
     "text": [
      "                      review_id                 user_id  \\\n",
      "0        vkVSCC7xljjrAI4UGfnKEQ  bv2nCi5Qv5vroFiqKGopiw   \n",
      "1        n6QzIUObkYshz4dz2QRJTw  bv2nCi5Qv5vroFiqKGopiw   \n",
      "2        MV3CcKScW05u5LVfF6ok0g  bv2nCi5Qv5vroFiqKGopiw   \n",
      "3        IXvOzsEMYtiJI0CARmj77Q  bv2nCi5Qv5vroFiqKGopiw   \n",
      "4        L_9BTb55X0GDtThi6GlZ6w  bv2nCi5Qv5vroFiqKGopiw   \n",
      "...                         ...                     ...   \n",
      "5261663  PoGSiNz1X5SUu0qEt-qM5w  mPjPyipaD0C_myqWqDipZg   \n",
      "5261664  -CJNPrDWgIkorx4iEZJXIg  mPjPyipaD0C_myqWqDipZg   \n",
      "5261665  W9eVvOcpBvG6lpJPoJOxuA  mPjPyipaD0C_myqWqDipZg   \n",
      "5261666  hqQ1UTFKMN2P1ezUow48OQ  mPjPyipaD0C_myqWqDipZg   \n",
      "5261667  ldsIs3sGXPJ7WM7VyAm4lQ  mPjPyipaD0C_myqWqDipZg   \n",
      "\n",
      "                    business_id  stars        date  \\\n",
      "0        AEx2SYEUJmTxVVB18LlCwA      5  2016-05-28   \n",
      "1        VR6GpWIda3SfvPC-lg9H3w      5  2016-05-28   \n",
      "2        CKC0-MOWMqoeWf6s-szl8g      5  2016-05-28   \n",
      "3        ACFtxLv8pGrrxMm6EgjreA      4  2016-05-28   \n",
      "4        s2I_Ni76bjJNK9yG60iD-Q      4  2016-05-28   \n",
      "...                         ...    ...         ...   \n",
      "5261663  Ngk84Ax1tXgpoJFEGxot3w      1  2011-11-21   \n",
      "5261664  pOEL97ld-FJMKO8Ki8JmYg      3  2016-04-30   \n",
      "5261665  5ubokMNw8qfbX2WtxgJG1Q      4  2011-10-23   \n",
      "5261666  EO3i5kTUG7_S2OIQ23sdSA      3  2011-11-07   \n",
      "5261667  HloEEXm_QzEpycuwA_RtQA      3  2011-11-15   \n",
      "\n",
      "                                                      text  useful  funny  \\\n",
      "0        Super simple place but amazing nonetheless. It...       0      0   \n",
      "1        Small unassuming place that changes their menu...       0      0   \n",
      "2        Lester's is located in a beautiful neighborhoo...       0      0   \n",
      "3        Love coming here. Yes the place always needs t...       0      0   \n",
      "4        Had their chocolate almond croissant and it wa...       0      0   \n",
      "...                                                    ...     ...    ...   \n",
      "5261663  Bought groupon $39 for 4 months from groupon, ...      36      3   \n",
      "5261664  Spring rolls was pretty good, cod was a bit ra...       0      0   \n",
      "5261665  Had a 8 dish set meal, was enough for 10 peopl...       3      0   \n",
      "5261666  A small, cozy family run Authentic korean rest...       2      0   \n",
      "5261667  Really nice atmosphere and settings and very c...       0      1   \n",
      "\n",
      "         cool  \n",
      "0           0  \n",
      "1           0  \n",
      "2           0  \n",
      "3           0  \n",
      "4           0  \n",
      "...       ...  \n",
      "5261663     3  \n",
      "5261664     0  \n",
      "5261665     1  \n",
      "5261666     0  \n",
      "5261667     1  \n",
      "\n",
      "[5261668 rows x 9 columns]\n"
     ]
    }
   ],
   "source": [
    "print(pd.read_csv(PATH))"
   ]
  },
  {
   "cell_type": "code",
   "execution_count": 5,
   "metadata": {},
   "outputs": [
    {
     "data": {
      "text/html": [
       "<div>\n",
       "<style scoped>\n",
       "    .dataframe tbody tr th:only-of-type {\n",
       "        vertical-align: middle;\n",
       "    }\n",
       "\n",
       "    .dataframe tbody tr th {\n",
       "        vertical-align: top;\n",
       "    }\n",
       "\n",
       "    .dataframe thead th {\n",
       "        text-align: right;\n",
       "    }\n",
       "</style>\n",
       "<table border=\"1\" class=\"dataframe\">\n",
       "  <thead>\n",
       "    <tr style=\"text-align: right;\">\n",
       "      <th></th>\n",
       "      <th>stars</th>\n",
       "      <th>text</th>\n",
       "    </tr>\n",
       "  </thead>\n",
       "  <tbody>\n",
       "    <tr>\n",
       "      <th>0</th>\n",
       "      <td>5</td>\n",
       "      <td>Super simple place but amazing nonetheless. It...</td>\n",
       "    </tr>\n",
       "    <tr>\n",
       "      <th>1</th>\n",
       "      <td>5</td>\n",
       "      <td>Small unassuming place that changes their menu...</td>\n",
       "    </tr>\n",
       "    <tr>\n",
       "      <th>2</th>\n",
       "      <td>5</td>\n",
       "      <td>Lester's is located in a beautiful neighborhoo...</td>\n",
       "    </tr>\n",
       "    <tr>\n",
       "      <th>3</th>\n",
       "      <td>4</td>\n",
       "      <td>Love coming here. Yes the place always needs t...</td>\n",
       "    </tr>\n",
       "    <tr>\n",
       "      <th>4</th>\n",
       "      <td>4</td>\n",
       "      <td>Had their chocolate almond croissant and it wa...</td>\n",
       "    </tr>\n",
       "  </tbody>\n",
       "</table>\n",
       "</div>"
      ],
      "text/plain": [
       "   stars                                               text\n",
       "0      5  Super simple place but amazing nonetheless. It...\n",
       "1      5  Small unassuming place that changes their menu...\n",
       "2      5  Lester's is located in a beautiful neighborhoo...\n",
       "3      4  Love coming here. Yes the place always needs t...\n",
       "4      4  Had their chocolate almond croissant and it wa..."
      ]
     },
     "execution_count": 5,
     "metadata": {},
     "output_type": "execute_result"
    }
   ],
   "source": [
    "pd.read_csv('D:/Data Sets/Yelp Reviews CSV/yelp_review.csv',usecols=['text','stars']).head()"
   ]
  },
  {
   "cell_type": "code",
   "execution_count": 12,
   "metadata": {},
   "outputs": [],
   "source": [
    "df=pd.read_csv(PATH,usecols=['text','stars']).sample(frac=1/200)"
   ]
  },
  {
   "cell_type": "code",
   "execution_count": 13,
   "metadata": {},
   "outputs": [
    {
     "data": {
      "text/plain": [
       "(26308, 2)"
      ]
     },
     "execution_count": 13,
     "metadata": {},
     "output_type": "execute_result"
    }
   ],
   "source": [
    "df.shape"
   ]
  },
  {
   "cell_type": "code",
   "execution_count": 14,
   "metadata": {},
   "outputs": [
    {
     "data": {
      "text/html": [
       "<div>\n",
       "<style scoped>\n",
       "    .dataframe tbody tr th:only-of-type {\n",
       "        vertical-align: middle;\n",
       "    }\n",
       "\n",
       "    .dataframe tbody tr th {\n",
       "        vertical-align: top;\n",
       "    }\n",
       "\n",
       "    .dataframe thead th {\n",
       "        text-align: right;\n",
       "    }\n",
       "</style>\n",
       "<table border=\"1\" class=\"dataframe\">\n",
       "  <thead>\n",
       "    <tr style=\"text-align: right;\">\n",
       "      <th></th>\n",
       "      <th>stars</th>\n",
       "      <th>text</th>\n",
       "    </tr>\n",
       "  </thead>\n",
       "  <tbody>\n",
       "    <tr>\n",
       "      <th>3628950</th>\n",
       "      <td>5</td>\n",
       "      <td>Been putting off the new mattress for too long...</td>\n",
       "    </tr>\n",
       "    <tr>\n",
       "      <th>1102171</th>\n",
       "      <td>1</td>\n",
       "      <td>If you want to end up in a lawsuit, either wit...</td>\n",
       "    </tr>\n",
       "    <tr>\n",
       "      <th>3943764</th>\n",
       "      <td>5</td>\n",
       "      <td>I went to Lola Rosa this weekend with my famil...</td>\n",
       "    </tr>\n",
       "    <tr>\n",
       "      <th>4697654</th>\n",
       "      <td>5</td>\n",
       "      <td>WHO: Bring the entire family for yummy dessert...</td>\n",
       "    </tr>\n",
       "    <tr>\n",
       "      <th>4826986</th>\n",
       "      <td>1</td>\n",
       "      <td>My mother and I went to this sad, sad shop a f...</td>\n",
       "    </tr>\n",
       "  </tbody>\n",
       "</table>\n",
       "</div>"
      ],
      "text/plain": [
       "         stars                                               text\n",
       "3628950      5  Been putting off the new mattress for too long...\n",
       "1102171      1  If you want to end up in a lawsuit, either wit...\n",
       "3943764      5  I went to Lola Rosa this weekend with my famil...\n",
       "4697654      5  WHO: Bring the entire family for yummy dessert...\n",
       "4826986      1  My mother and I went to this sad, sad shop a f..."
      ]
     },
     "execution_count": 14,
     "metadata": {},
     "output_type": "execute_result"
    }
   ],
   "source": [
    "df.head()"
   ]
  },
  {
   "cell_type": "code",
   "execution_count": 15,
   "metadata": {},
   "outputs": [
    {
     "data": {
      "text/plain": [
       "<AxesSubplot:>"
      ]
     },
     "execution_count": 15,
     "metadata": {},
     "output_type": "execute_result"
    },
    {
     "data": {
      "image/png": "[encoded data removed]",
      "text/plain": [
       "<Figure size 432x288 with 1 Axes>"
      ]
     },
     "metadata": {
      "needs_background": "light"
     },
     "output_type": "display_data"
    }
   ],
   "source": [
    "plot=df.stars.value_counts().plot(kind='bar')\n",
    "plot"
   ]
  },
  {
   "cell_type": "code",
   "execution_count": 16,
   "metadata": {},
   "outputs": [
    {
     "data": {
      "text/html": [
       "<div>\n",
       "<style scoped>\n",
       "    .dataframe tbody tr th:only-of-type {\n",
       "        vertical-align: middle;\n",
       "    }\n",
       "\n",
       "    .dataframe tbody tr th {\n",
       "        vertical-align: top;\n",
       "    }\n",
       "\n",
       "    .dataframe thead th {\n",
       "        text-align: right;\n",
       "    }\n",
       "</style>\n",
       "<table border=\"1\" class=\"dataframe\">\n",
       "  <thead>\n",
       "    <tr style=\"text-align: right;\">\n",
       "      <th></th>\n",
       "      <th>stars</th>\n",
       "      <th>text</th>\n",
       "      <th>review</th>\n",
       "    </tr>\n",
       "  </thead>\n",
       "  <tbody>\n",
       "    <tr>\n",
       "      <th>3628950</th>\n",
       "      <td>5</td>\n",
       "      <td>Been putting off the new mattress for too long...</td>\n",
       "      <td>5</td>\n",
       "    </tr>\n",
       "    <tr>\n",
       "      <th>1102171</th>\n",
       "      <td>1</td>\n",
       "      <td>If you want to end up in a lawsuit, either wit...</td>\n",
       "      <td>1</td>\n",
       "    </tr>\n",
       "    <tr>\n",
       "      <th>3943764</th>\n",
       "      <td>5</td>\n",
       "      <td>I went to Lola Rosa this weekend with my famil...</td>\n",
       "      <td>5</td>\n",
       "    </tr>\n",
       "    <tr>\n",
       "      <th>4697654</th>\n",
       "      <td>5</td>\n",
       "      <td>WHO: Bring the entire family for yummy dessert...</td>\n",
       "      <td>5</td>\n",
       "    </tr>\n",
       "    <tr>\n",
       "      <th>4826986</th>\n",
       "      <td>1</td>\n",
       "      <td>My mother and I went to this sad, sad shop a f...</td>\n",
       "      <td>1</td>\n",
       "    </tr>\n",
       "  </tbody>\n",
       "</table>\n",
       "</div>"
      ],
      "text/plain": [
       "         stars                                               text  review\n",
       "3628950      5  Been putting off the new mattress for too long...       5\n",
       "1102171      1  If you want to end up in a lawsuit, either wit...       1\n",
       "3943764      5  I went to Lola Rosa this weekend with my famil...       5\n",
       "4697654      5  WHO: Bring the entire family for yummy dessert...       5\n",
       "4826986      1  My mother and I went to this sad, sad shop a f...       1"
      ]
     },
     "execution_count": 16,
     "metadata": {},
     "output_type": "execute_result"
    }
   ],
   "source": [
    "df['review']=df['stars']\n",
    "df.head()"
   ]
  },
  {
   "cell_type": "code",
   "execution_count": 17,
   "metadata": {},
   "outputs": [],
   "source": [
    "df=df.drop('stars',axis=1)"
   ]
  },
  {
   "cell_type": "code",
   "execution_count": 18,
   "metadata": {},
   "outputs": [
    {
     "data": {
      "text/html": [
       "<div>\n",
       "<style scoped>\n",
       "    .dataframe tbody tr th:only-of-type {\n",
       "        vertical-align: middle;\n",
       "    }\n",
       "\n",
       "    .dataframe tbody tr th {\n",
       "        vertical-align: top;\n",
       "    }\n",
       "\n",
       "    .dataframe thead th {\n",
       "        text-align: right;\n",
       "    }\n",
       "</style>\n",
       "<table border=\"1\" class=\"dataframe\">\n",
       "  <thead>\n",
       "    <tr style=\"text-align: right;\">\n",
       "      <th></th>\n",
       "      <th>text</th>\n",
       "      <th>review</th>\n",
       "    </tr>\n",
       "  </thead>\n",
       "  <tbody>\n",
       "    <tr>\n",
       "      <th>0</th>\n",
       "      <td>Been putting off the new mattress for too long...</td>\n",
       "      <td>5</td>\n",
       "    </tr>\n",
       "    <tr>\n",
       "      <th>1</th>\n",
       "      <td>If you want to end up in a lawsuit, either wit...</td>\n",
       "      <td>1</td>\n",
       "    </tr>\n",
       "    <tr>\n",
       "      <th>2</th>\n",
       "      <td>I went to Lola Rosa this weekend with my famil...</td>\n",
       "      <td>5</td>\n",
       "    </tr>\n",
       "    <tr>\n",
       "      <th>3</th>\n",
       "      <td>WHO: Bring the entire family for yummy dessert...</td>\n",
       "      <td>5</td>\n",
       "    </tr>\n",
       "    <tr>\n",
       "      <th>4</th>\n",
       "      <td>My mother and I went to this sad, sad shop a f...</td>\n",
       "      <td>1</td>\n",
       "    </tr>\n",
       "  </tbody>\n",
       "</table>\n",
       "</div>"
      ],
      "text/plain": [
       "                                                text  review\n",
       "0  Been putting off the new mattress for too long...       5\n",
       "1  If you want to end up in a lawsuit, either wit...       1\n",
       "2  I went to Lola Rosa this weekend with my famil...       5\n",
       "3  WHO: Bring the entire family for yummy dessert...       5\n",
       "4  My mother and I went to this sad, sad shop a f...       1"
      ]
     },
     "execution_count": 18,
     "metadata": {},
     "output_type": "execute_result"
    }
   ],
   "source": [
    "df=df.reset_index(drop=True)\n",
    "df.head()"
   ]
  },
  {
   "cell_type": "code",
   "execution_count": 19,
   "metadata": {},
   "outputs": [
    {
     "data": {
      "text/html": [
       "<div>\n",
       "<style scoped>\n",
       "    .dataframe tbody tr th:only-of-type {\n",
       "        vertical-align: middle;\n",
       "    }\n",
       "\n",
       "    .dataframe tbody tr th {\n",
       "        vertical-align: top;\n",
       "    }\n",
       "\n",
       "    .dataframe thead th {\n",
       "        text-align: right;\n",
       "    }\n",
       "</style>\n",
       "<table border=\"1\" class=\"dataframe\">\n",
       "  <thead>\n",
       "    <tr style=\"text-align: right;\">\n",
       "      <th></th>\n",
       "      <th>text</th>\n",
       "      <th>review</th>\n",
       "    </tr>\n",
       "  </thead>\n",
       "  <tbody>\n",
       "    <tr>\n",
       "      <th>0</th>\n",
       "      <td>Been putting off the new mattress for too long...</td>\n",
       "      <td>1</td>\n",
       "    </tr>\n",
       "    <tr>\n",
       "      <th>1</th>\n",
       "      <td>If you want to end up in a lawsuit, either wit...</td>\n",
       "      <td>0</td>\n",
       "    </tr>\n",
       "    <tr>\n",
       "      <th>2</th>\n",
       "      <td>I went to Lola Rosa this weekend with my famil...</td>\n",
       "      <td>1</td>\n",
       "    </tr>\n",
       "    <tr>\n",
       "      <th>3</th>\n",
       "      <td>WHO: Bring the entire family for yummy dessert...</td>\n",
       "      <td>1</td>\n",
       "    </tr>\n",
       "    <tr>\n",
       "      <th>4</th>\n",
       "      <td>My mother and I went to this sad, sad shop a f...</td>\n",
       "      <td>0</td>\n",
       "    </tr>\n",
       "  </tbody>\n",
       "</table>\n",
       "</div>"
      ],
      "text/plain": [
       "                                                text  review\n",
       "0  Been putting off the new mattress for too long...       1\n",
       "1  If you want to end up in a lawsuit, either wit...       0\n",
       "2  I went to Lola Rosa this weekend with my famil...       1\n",
       "3  WHO: Bring the entire family for yummy dessert...       1\n",
       "4  My mother and I went to this sad, sad shop a f...       0"
      ]
     },
     "execution_count": 19,
     "metadata": {},
     "output_type": "execute_result"
    }
   ],
   "source": [
    "rev=[]\n",
    "for i in df['review']:\n",
    "    if int(i)>=4:\n",
    "        i=1\n",
    "        rev.append(i)\n",
    "    elif int(i)<=3:\n",
    "        i=0\n",
    "        rev.append(i)\n",
    "    #print(rev[:5])\n",
    "#print(len(rev))\n",
    "df['review']=rev\n",
    "df.head()"
   ]
  },
  {
   "cell_type": "code",
   "execution_count": 20,
   "metadata": {},
   "outputs": [],
   "source": [
    "from sklearn.model_selection import train_test_split\n",
    "x_train,x_test,y_train,y_test=train_test_split(df.text.values,df.review.values,test_size=0.2)"
   ]
  },
  {
   "cell_type": "code",
   "execution_count": null,
   "metadata": {},
   "outputs": [],
   "source": [
    "#so now we have already encoded the review variable"
   ]
  },
  {
   "cell_type": "code",
   "execution_count": 21,
   "metadata": {},
   "outputs": [],
   "source": [
    "#preprocess the data\n",
    "import re"
   ]
  },
  {
   "cell_type": "code",
   "execution_count": 24,
   "metadata": {},
   "outputs": [
    {
     "name": "stderr",
     "output_type": "stream",
     "text": [
      "100%|████████████████████████████████████████████████████████████████████████████| 21046/21046 [10:26<00:00, 33.62it/s]\n"
     ]
    }
   ],
   "source": [
    "from tqdm import tqdm\n",
    "corpus=[]\n",
    "from nltk.corpus import stopwords\n",
    "from nltk.stem import WordNetLemmatizer\n",
    "wordnet=WordNetLemmatizer()\n",
    "for i in tqdm(range(x_train.shape[0])):\n",
    "    text=x_train[i]\n",
    "    text=text.lower()\n",
    "    text=re.sub(r\"([.,!?\\\"'*])\",' ', text)\n",
    "    text=re.sub('r[^a-zA-Z0-9]+',' ',text)\n",
    "    text=text.split()\n",
    "    text=[wordnet.lemmatize(word) for word in text if word not in stopwords.words('english')]\n",
    "    text=' '.join(text)\n",
    "    corpus.append(text)"
   ]
  },
  {
   "cell_type": "code",
   "execution_count": 25,
   "metadata": {},
   "outputs": [
    {
     "data": {
      "text/plain": [
       "'coworkers wanted find place breakfast also business meeting suggested eat located newly upgraded downtown fremont east community one first new restaurant open still thrives today afte opening three year ago yea since restaurant many coworkers neve happy coworkers experience phenomenon chef natalie creative menu stick rib hearty breakfast concern wait time get good thing came early arrived 9am already restaurant 2\\\\/3rds full seated quickly met hostess offered u drink special day: scotch egg course ordered scotch egg ove small stack pancake appetize along cinnamon biscuit topped fruit compote & deep fried deviled egg ordered usual favorite chicken fried steak egg country style potato hash note: egg prepared preference othe plate ordered corned beef hash shrimp grit steak egg avocado breakfast sandwich food amazing first time come previously disappointment portion huge warning fo dainty eate need come hungry howeve go box needed downtown fremont stop place fo fulfilling eating experience walk touring shop containe park go fun casino fremont experience bon appetite :)'"
      ]
     },
     "execution_count": 25,
     "metadata": {},
     "output_type": "execute_result"
    }
   ],
   "source": [
    "corpus[1]"
   ]
  },
  {
   "cell_type": "code",
   "execution_count": 29,
   "metadata": {},
   "outputs": [
    {
     "name": "stdout",
     "output_type": "stream",
     "text": [
      "really disappointed boyfriend came fo brunch orde ended wrong ordered huevos rancheros come chicken finish preparing orde chicken hungry realize boyfriend brought attention orde looked small missing something little annoyed serve notice orde complete sure serf dish quite frequently wish would realize annoyed paid $40 fo check tipped great first impression\n",
      "\n",
      "coworkers wanted find place breakfast also business meeting suggested eat located newly upgraded downtown fremont east community one first new restaurant open still thrives today afte opening three year ago yea since restaurant many coworkers neve happy coworkers experience phenomenon chef natalie creative menu stick rib hearty breakfast concern wait time get good thing came early arrived 9am already restaurant 2\\/3rds full seated quickly met hostess offered u drink special day: scotch egg course ordered scotch egg ove small stack pancake appetize along cinnamon biscuit topped fruit compote & deep fried deviled egg ordered usual favorite chicken fried steak egg country style potato hash note: egg prepared preference othe plate ordered corned beef hash shrimp grit steak egg avocado breakfast sandwich food amazing first time come previously disappointment portion huge warning fo dainty eate need come hungry howeve go box needed downtown fremont stop place fo fulfilling eating experience walk touring shop containe park go fun casino fremont experience bon appetite :)\n",
      "\n"
     ]
    }
   ],
   "source": [
    "for i in range(2):\n",
    "    print(corpus[i])\n",
    "    print()"
   ]
  },
  {
   "cell_type": "code",
   "execution_count": null,
   "metadata": {},
   "outputs": [],
   "source": []
  },
  {
   "cell_type": "code",
   "execution_count": 30,
   "metadata": {},
   "outputs": [
    {
     "data": {
      "text/plain": [
       "array([0, 1, 1, ..., 0, 1, 1], dtype=int64)"
      ]
     },
     "execution_count": 30,
     "metadata": {},
     "output_type": "execute_result"
    }
   ],
   "source": [
    "y_train"
   ]
  },
  {
   "cell_type": "code",
   "execution_count": 31,
   "metadata": {},
   "outputs": [],
   "source": [
    "from sklearn.model_selection import train_test_split\n",
    "import numpy as np\n",
    "\n",
    "class dataset(Dataset):\n",
    "    def __init__(self):\n",
    "        self.tf=TfidfVectorizer(max_df=0.99, min_df=0.005)\n",
    "        self.x=self.tf.fit_transform(corpus).toarray()\n",
    "        self.y=y_train\n",
    "        self.token2idx=self.tf.vocabulary_\n",
    "        self.idx2token = {idx: token for token, idx in self.token2idx.items()}\n",
    "        print(self.idx2token)\n",
    "    \n",
    "    def __getitem__(self,i):\n",
    "        return self.x[i, :], self.y[i]\n",
    "    \n",
    "    def __len__(self):\n",
    "        return self.x.shape[0]"
   ]
  },
  {
   "cell_type": "code",
   "execution_count": 32,
   "metadata": {},
   "outputs": [
    {
     "name": "stdout",
     "output_type": "stream",
     "text": [
      "{1050: 'really', 380: 'disappointed', 173: 'boyfriend', 210: 'came', 519: 'fo', 186: 'brunch', 893: 'orde', 430: 'ended', 1497: 'wrong', 895: 'ordered', 276: 'come', 243: 'chicken', 503: 'finish', 647: 'hungry', 1048: 'realize', 184: 'brought', 98: 'attention', 743: 'looked', 1191: 'small', 808: 'missing', 1206: 'something', 730: 'little', 1152: 'serve', 863: 'notice', 286: 'complete', 1288: 'sure', 385: 'dish', 1033: 'quite', 1475: 'wish', 1491: 'would', 918: 'paid', 15: '40', 237: 'check', 578: 'great', 506: 'first', 1439: 'wanted', 500: 'find', 968: 'place', 177: 'breakfast', 56: 'also', 196: 'business', 786: 'meeting', 1279: 'suggested', 417: 'eat', 737: 'located', 397: 'downtown', 415: 'east', 884: 'one', 846: 'new', 1079: 'restaurant', 887: 'open', 1257: 'still', 1348: 'today', 38: 'afte', 889: 'opening', 1338: 'three', 1500: 'year', 41: 'ago', 1498: 'yea', 1178: 'since', 769: 'many', 845: 'neve', 603: 'happy', 462: 'experience', 242: 'chef', 324: 'creative', 793: 'menu', 1256: 'stick', 1085: 'rib', 290: 'concern', 1428: 'wait', 1343: 'time', 554: 'get', 569: 'good', 1332: 'thing', 413: 'early', 88: 'arrived', 54: 'already', 541: 'full', 1133: 'seated', 1031: 'quickly', 795: 'met', 639: 'hostess', 871: 'offered', 401: 'drink', 1222: 'special', 347: 'day', 422: 'egg', 313: 'course', 906: 'ove', 920: 'pancake', 78: 'appetize', 53: 'along', 1357: 'topped', 539: 'fruit', 356: 'deep', 534: 'fried', 1407: 'usual', 486: 'favorite', 1254: 'steak', 310: 'country', 1274: 'style', 996: 'potato', 605: 'hash', 861: 'note', 999: 'prepared', 898: 'othe', 973: 'plate', 137: 'beef', 1171: 'shrimp', 104: 'avocado', 1115: 'sandwich', 522: 'food', 59: 'amazing', 382: 'disappointment', 990: 'portion', 646: 'huge', 840: 'need', 645: 'howeve', 565: 'go', 171: 'box', 841: 'needed', 1260: 'stop', 419: 'eating', 1434: 'walk', 1164: 'shop', 923: 'park', 542: 'fun', 219: 'casino', 487: 'favourite', 91: 'asian', 71: 'anything', 1177: 'simply', 444: 'even', 1215: 'sound', 1107: 'salad', 358: 'delicious', 66: 'anothe', 977: 'pleasant', 1289: 'surprise', 1201: 'soft', 1163: 'shell', 318: 'crab', 875: 'oh', 1327: 'thei', 768: 'mango', 682: 'juice', 762: 'make', 1333: 'think', 1155: 'service', 452: 'excellent', 1106: 'said', 492: 'felt', 1422: 'vibe', 1336: 'though', 1459: 'went', 1122: 'saw', 1168: 'show', 133: 'beautiful', 749: 'love', 368: 'detail', 1239: 'staff', 837: 'nea', 722: 'light', 924: 'parking', 1438: 'want', 1138: 'see', 476: 'fall', 567: 'going', 1380: 'try', 1132: 'seat', 223: 'cente', 418: 'eaten', 1414: 'vega', 275: 'combo', 111: 'ba', 1250: 'station', 694: 'know', 738: 'location', 699: 'la', 357: 'definitely', 1490: 'worth', 1375: 'trip', 641: 'hotel', 300: 'cook', 1074: 'requested', 1228: 'spice', 720: 'level', 1: '10', 712: 'least', 1229: 'spicy', 308: 'could', 625: 'highly', 1058: 'recommend', 656: 'impressed', 909: 'overly', 1090: 'right', 1317: 'tende', 1509: 'yummy', 1129: 'seafood', 855: 'noodle', 1349: 'tofu', 153: 'bit', 806: 'miss', 829: 'much', 1188: 'slice', 135: 'bed', 580: 'green', 876: 'oil', 1047: 'real', 535: 'friend', 72: 'anyway', 598: 'hand', 1023: 'pulled', 833: 'must', 1123: 'say', 455: 'excited', 489: 'feel', 723: 'like', 689: 'kind', 1405: 'used', 812: 'modern', 1011: 'probably', 1051: 'reason', 548: 'gave', 1389: 'two', 1243: 'star', 507: 'fish', 303: 'cool', 378: 'dirty', 668: 'inside', 635: 'hope', 724: 'liked', 1447: 'way', 1437: 'wall', 1458: 'well', 922: 'parent', 572: 'got', 1216: 'soup', 1245: 'start', 991: 'positive', 183: 'broth', 848: 'nice', 258: 'clean', 1308: 'tasty', 1416: 'vegetable', 115: 'bad', 908: 'overcooked', 780: 'mean', 1285: 'supe', 939: 'paying', 8: '16', 187: 'buck', 145: 'bette', 301: 'cooked', 1113: 'salty', 123: 'barely', 1355: 'took', 461: 'expensive', 7: '15', 1173: 'side', 1303: 'talking', 718: 'let', 1374: 'tried', 1125: 'schedule', 81: 'appointment', 1340: 'thru', 1482: 'work', 560: 'give', 296: 'contact', 670: 'insurance', 442: 'etc', 325: 'credit', 213: 'card', 232: 'charge', 307: 'cost', 873: 'office', 1424: 'visit', 448: 'everyone', 1324: 'thanks', 386: 'docto', 1443: 'waste', 470: 'fabulous', 818: 'month', 707: 'late', 525: 'forget', 148: 'big', 90: 'as', 1095: 'roll', 765: 'man', 348: 'de', 1392: 'un', 370: 'die', 1393: 'und', 340: 'da', 47: 'al', 658: 'in', 787: 'meh', 144: 'best', 1300: 'taking', 84: 'area', 206: 'california', 696: 'knowledgeable', 1457: 'welcoming', 447: 'every', 1390: 'type', 742: 'look', 527: 'forward', 847: 'next', 1060: 'recommended', 1319: 'terrible', 587: 'group', 222: 'cause', 230: 'change', 1367: 'town', 1103: 'sad', 1311: 'team', 96: 'ate', 807: 'missed', 76: 'app', 1153: 'served', 1042: 'raw', 759: 'made', 349: 'deal', 1298: 'take', 151: 'bill', 60: 'ambiance', 1002: 'pretty', 475: 'fairly', 1322: 'thai', 1075: 'reservation', 1329: 'they', 958: 'phone', 746: 'lot', 943: 'people', 715: 'left', 1432: 'waiting', 1406: 'using', 363: 'desert', 1248: 'state', 630: 'home', 1015: 'professional', 467: 'extremely', 26: 'accommodating', 951: 'personable', 705: 'large', 13: '2nd', 518: 'floo', 935: 'patio', 350: 'decent', 138: 'beer', 1304: 'tap', 551: 'generally', 916: 'packed', 1454: 'weekend', 366: 'despite', 279: 'coming', 830: 'multiple', 864: 'noticed', 967: 'pizza', 901: 'ou', 1235: 'spring', 247: 'chinese', 360: 'delivered', 1453: 'week', 328: 'crispy', 405: 'drop', 1306: 'tasted', 532: 'fresh', 577: 'greasy', 597: 'half', 642: 'hou', 1221: 'speak', 125: 'bartender', 775: 'may', 568: 'gone', 760: 'main', 446: 'event', 1448: 'we', 543: 'funny', 536: 'friendly', 99: 'attentive', 590: 'guess', 113: 'back', 1054: 'receive', 870: 'offer', 530: 'free', 644: 'house', 781: 'meat', 188: 'buffet', 94: 'asked', 130: 'bbq', 1408: 'usually', 1195: 'smoke', 112: 'baby', 440: 'especially', 450: 'everywhere', 449: 'everything', 453: 'except', 677: 'item', 1502: 'yes', 1151: 'seriously', 992: 'possible', 1118: 'saturday', 850: 'night', 890: 'opinion', 456: 'excuse', 1100: 'running', 207: 'call', 44: 'ahead', 1295: 'table', 1446: 'wate', 1205: 'someone', 1112: 'salt', 181: 'brisket', 862: 'nothing', 905: 'outstanding', 907: 'overall', 434: 'enjoyed', 1119: 'sauce', 1313: 'tell', 304: 'corn', 175: 'bread', 757: 'mac', 240: 'cheese', 877: 'ok', 1504: 'yet', 1154: 'server', 604: 'hard', 435: 'enough', 124: 'bartende', 993: 'possibly', 684: 'keep', 680: 'joint', 1359: 'toronto', 287: 'completely', 767: 'management', 805: 'minute', 1351: 'told', 25: 'absolutely', 651: 'idea', 928: 'party', 706: 'last', 1190: 'slow', 361: 'delivery', 51: 'almost', 1099: 'run', 426: 'email', 550: 'general', 766: 'manage', 1012: 'problem', 1237: 'st', 1199: 'so', 994: 'post', 1084: 'review', 1238: 'sta', 1334: 'thinking', 480: 'fantastic', 107: 'awesome', 683: 'juicy', 989: 'pork', 1433: 'waitress', 1020: 'provide', 466: 'extra', 970: 'plain', 648: 'husband', 432: 'enjoy', 779: 'meal', 97: 'atmosphere', 27: 'across', 1362: 'totally', 214: 'care', 201: 'ca', 420: 'efficient', 1442: 'wash', 477: 'family', 212: 'car', 58: 'always', 679: 'job', 443: 'eve', 674: 'issue', 1299: 'taken', 1017: 'promptly', 686: 'key', 616: 'help', 70: 'anyone', 835: 'nail', 1110: 'salon', 251: 'choice', 1063: 'refreshing', 364: 'design', 1066: 'regula', 1091: 'ring', 1486: 'world', 1061: 'red', 1472: 'wine', 399: 'dress', 86: 'around', 744: 'looking', 1451: 'wedding', 259: 'cleaned', 1379: 'trust', 1070: 'remembe', 1026: 'put', 1004: 'price', 136: 'bee', 79: 'appetizer', 52: 'alone', 1383: 'tuna', 804: 'mini', 387: 'dog', 248: 'chip', 499: 'finally', 1162: 'shared', 377: 'dip', 687: 'kick', 1470: 'willing', 776: 'maybe', 1140: 'seem', 701: 'lacking', 1219: 'space', 703: 'laid', 1234: 'spot', 269: 'cocktail', 652: 'im', 606: 'hate', 1160: 'shake', 710: 'leaf', 1096: 'room', 1194: 'smile', 643: 'hour', 529: 'found', 1040: 'rathe', 372: 'different', 622: 'high', 983: 'point', 65: 'annoying', 199: 'buy', 1314: 'telling', 473: 'fact', 972: 'plastic', 1476: 'within', 10: '20', 1025: 'purchased', 713: 'leave', 739: 'lol', 1137: 'security', 1136: 'section', 1404: 'use', 424: 'else', 915: 'package', 879: 'old', 1252: 'stayed', 585: 'gross', 1193: 'smell', 2: '100', 14: '30', 960: 'pick', 1485: 'working', 436: 'entire', 1007: 'pricing', 1489: 'worst', 950: 'person', 1430: 'waited', 12: '25', 756: 'lunch', 982: 'pm', 197: 'busy', 698: 'korean', 540: 'fry', 1117: 'satisfied', 288: 'complimentary', 1134: 'seating', 102: 'available', 528: 'fou', 1126: 'school', 1267: 'street', 676: 'italian', 62: 'american', 1272: 'stuff', 132: 'beat', 663: 'incredibly', 666: 'informed', 728: 'list', 438: 'entree', 692: 'kitchen', 731: 'live', 520: 'folk', 403: 'drive', 904: 'outside', 157: 'block', 1425: 'visited', 459: 'expected', 354: 'deco', 57: 'although', 1290: 'surprised', 292: 'considering', 1269: 'strong', 1086: 'rice', 1361: 'total', 1309: 'tax', 896: 'ordering', 83: 'appreciated', 1156: 'serving', 1337: 'thought', 1080: 'result', 334: 'cup', 161: 'bomb', 627: 'hit', 892: 'orange', 802: 'mind', 482: 'fast', 1478: 'woman', 429: 'end', 244: 'child', 344: 'dark', 1003: 'previous', 433: 'enjoyable', 938: 'pay', 1143: 'seen', 1262: 'store', 254: 'city', 1166: 'short', 39: 'afternoon', 23: 'able', 1158: 'setting', 1010: 'private', 1108: 'sale', 1301: 'talk', 67: 'answe', 1029: 'question', 126: 'based', 390: 'done', 285: 'complaint', 792: 'mentioned', 1027: 'putting', 77: 'apparently', 700: 'lack', 752: 'low', 1001: 'pressure', 886: 'online', 359: 'delive', 614: 'heavy', 216: 'case', 1376: 'truck', 1487: 'worry', 494: 'figured', 891: 'option', 691: 'king', 128: 'basically', 1081: 'return', 798: 'might', 469: 'fa', 957: 'phoenix', 784: 'medium', 750: 'loved', 654: 'immediately', 336: 'custome', 917: 'pad', 306: 'correct', 849: 'nicely', 617: 'helped', 817: 'money', 669: 'instead', 1209: 'somewhere', 1146: 'sell', 575: 'grand', 203: 'cafe', 1253: 'staying', 929: 'pas', 788: 'membe', 934: 'patient', 339: 'cute', 1384: 'turkey', 375: 'dining', 552: 'generous', 1345: 'tip', 828: 'moving', 853: 'non', 763: 'making', 217: 'cash', 1065: 'registe', 809: 'mistake', 1255: 'step', 843: 'negative', 411: 'due', 857: 'normally', 326: 'crew', 191: 'bunch', 471: 'face', 93: 'ask', 1135: 'second', 727: 'line', 1249: 'stated', 395: 'double', 1242: 'standing', 586: 'ground', 352: 'decided', 589: 'guacamole', 309: 'counte', 1479: 'wonde', 740: 'long', 810: 'mix', 142: 'belly', 483: 'fat', 1053: 'reasonably', 1480: 'wonderful', 1471: 'window', 129: 'bathroom', 1224: 'spectacula', 1251: 'stay', 1030: 'quick', 1198: 'snack', 1296: 'taco', 1052: 'reasonable', 298: 'convenient', 416: 'easy', 414: 'easily', 1057: 'recently', 16: '45', 1142: 'seems', 1078: 'rest', 1423: 'view', 103: 'average', 1246: 'started', 735: 'lobste', 1000: 'presentation', 1109: 'salmon', 192: 'burge', 964: 'pie', 867: 'occasion', 69: 'anymore', 45: 'ai', 1210: 'son', 134: 'become', 35: 'adult', 1468: 'wife', 946: 'perfect', 975: 'play', 874: 'often', 1089: 'ridiculous', 562: 'giving', 688: 'kid', 844: 'neighborhood', 1240: 'stand', 229: 'chance', 423: 'eithe', 1082: 'returned', 745: 'lost', 537: 'front', 393: 'doo', 821: 'morning', 1477: 'without', 978: 'please', 406: 'dropped', 1008: 'prime', 1039: 'rate', 281: 'company', 836: 'name', 681: 'joke', 1220: 'spacious', 751: 'lovely', 250: 'chocolate', 649: 'ice', 322: 'cream', 758: 'machine', 204: 'cake', 116: 'bag', 814: 'mom', 92: 'aside', 1323: 'thank', 32: 'addition', 709: 'le', 106: 'away', 764: 'mall', 980: 'plenty', 252: 'choose', 1281: 'suite', 479: 'fancy', 1387: 'tv', 733: 'living', 267: 'club', 832: 'music', 1356: 'top', 200: 'buying', 1024: 'purchase', 1419: 'vehicle', 1197: 'smooth', 139: 'beginning', 860: 'notch', 168: 'bottom', 1395: 'understand', 799: 'mile', 561: 'given', 108: 'awful', 29: 'actually', 555: 'getting', 513: 'flavo', 170: 'bowl', 400: 'dressing', 1214: 'sou', 1386: 'turned', 1305: 'taste', 235: 'cheap', 803: 'mine', 1321: 'texture', 1483: 'worked', 1350: 'togethe', 270: 'coconut', 1418: 'veggie', 547: 'garlic', 610: 'healthy', 1144: 'selection', 367: 'dessert', 1124: 'saying', 49: 'all', 17: '50', 504: 'finished', 1203: 'sold', 1183: 'sitting', 166: 'bothe', 1344: 'tiny', 1307: 'tasting', 1326: 'the', 963: 'picture', 28: 'actual', 1145: 'self', 1377: 'true', 564: 'glass', 428: 'empty', 931: 'past', 1179: 'single', 1062: 'refill', 638: 'horrible', 1398: 'unless', 974: 'platte', 1212: 'sorry', 1449: 'weathe', 193: 'burger', 570: 'goodness', 704: 'lamb', 594: 'gyro', 881: 'olive', 620: 'hey', 1421: 'version', 933: 'pastry', 579: 'greek', 1381: 'trying', 1436: 'walking', 574: 'grab', 159: 'board', 600: 'hang', 1067: 'relax', 1465: 'white', 708: 'latte', 228: 'chair', 851: 'no', 376: 'dinne', 341: 'daily', 981: 'plus', 1394: 'unde', 18: '60', 611: 'heard', 948: 'perfectly', 141: 'believe', 959: 'photo', 583: 'grilled', 37: 'affordable', 997: 'pre', 823: 'mothe', 1101: 'rush', 5: '13', 114: 'bacon', 995: 'pot', 0: '00', 910: 'overpriced', 783: 'mediocre', 774: 'matte', 914: 'pa', 925: 'part', 1503: 'yesterday', 1005: 'priced', 582: 'grill', 1293: 'sweet', 588: 'groupon', 1501: 'yelp', 801: 'min', 732: 'lived', 464: 'explain', 544: 'furthe', 1286: 'support', 987: 'pop', 1227: 'spent', 1460: 'west', 608: 'head', 1069: 'relaxing', 1139: 'seeing', 351: 'decide', 1473: 'wing', 1014: 'product', 628: 'hold', 602: 'happened', 961: 'picked', 1130: 'season', 1461: 'whateve', 208: 'called', 633: 'honestly', 1378: 'truly', 632: 'honest', 1174: 'sign', 592: 'guy', 1410: 'valley', 1019: 'property', 1013: 'process', 474: 'fai', 546: 'game', 558: 'girl', 329: 'crowd', 1116: 'sat', 21: '95', 1385: 'turn', 1444: 'watch', 1092: 'road', 1141: 'seemed', 330: 'crowded', 1200: 'soda', 941: 'peanut', 346: 'daughte', 1464: 'which', 179: 'bring', 221: 'catch', 119: 'ball', 755: 'lucky', 169: 'bought', 321: 'crazy', 1441: 'warm', 407: 'drove', 878: 'okay', 64: 'and', 82: 'appreciate', 1413: 'various', 333: 'cuisine', 497: 'filled', 741: 'longe', 1462: 'wheneve', 866: 'obviously', 865: 'numbe', 1339: 'throughout', 1181: 'sit', 1044: 'read', 852: 'noise', 1244: 'starbucks', 373: 'difficult', 163: 'book', 815: 'moment', 1507: 'young', 609: 'health', 1320: 'test', 1371: 'treat', 488: 'fee', 19: '75', 618: 'helpful', 33: 'additional', 1182: 'site', 1034: 'quote', 389: 'dollar', 659: 'include', 521: 'follow', 954: 'pet', 262: 'client', 120: 'banana', 675: 'it', 178: 'bright', 271: 'coffee', 1046: 'ready', 155: 'black', 1128: 'screen', 1148: 'sense', 427: 'employee', 1312: 'tech', 362: 'department', 337: 'customer', 478: 'fan', 1318: 'term', 46: 'airport', 1474: 'wise', 167: 'bottle', 1364: 'touch', 581: 'greeted', 1157: 'set', 43: 'agreed', 1187: 'skin', 1510: 'zero', 1435: 'walked', 702: 'lady', 100: 'attitude', 1481: 'word', 516: 'flavou', 1341: 'thursday', 1275: 'sub', 926: 'particula', 40: 'age', 4: '12', 331: 'crunchy', 1083: 'returning', 1006: 'pricey', 404: 'driving', 338: 'cut', 930: 'passed', 1159: 'several', 439: 'environment', 911: 'owne', 1310: 'tea', 345: 'date', 557: 'gift', 790: 'men', 311: 'couple', 1037: 'range', 174: 'brand', 838: 'nearby', 211: 'cannot', 295: 'constantly', 87: 'arrive', 1411: 'value', 965: 'piece', 1388: 'twice', 1397: 'unique', 631: 'homemade', 1373: 'treatment', 225: 'certainly', 940: 'pe', 481: 'fare', 1098: 'rude', 384: 'disgusting', 1055: 'received', 899: 'others', 441: 'establishment', 127: 'basic', 719: 'lettuce', 185: 'brown', 553: 'gentleman', 484: 'fault', 1028: 'quality', 231: 'changed', 239: 'checking', 1456: 'welcome', 531: 'french', 885: 'onion', 831: 'mushroom', 1492: 'wow', 189: 'building', 1241: 'standard', 1297: 'tad', 118: 'bakery', 501: 'finding', 510: 'fix', 315: 'cove', 1236: 'square', 880: 'olde', 1264: 'straight', 1185: 'size', 451: 'exactly', 266: 'clothes', 1189: 'slightly', 984: 'polite', 245: 'chili', 320: 'craving', 1041: 'rating', 1396: 'unfortunately', 1225: 'spend', 381: 'disappointing', 31: 'added', 1076: 'resort', 660: 'included', 391: 'dont', 1176: 'simple', 365: 'desk', 665: 'information', 1294: 'system', 839: 'nearly', 571: 'gorgeous', 772: 'mashed', 465: 'explained', 1093: 'roasted', 158: 'blue', 1131: 'seasoned', 514: 'flavor', 1360: 'tortilla', 425: 'elsewhere', 468: 'eye', 1280: 'suggestion', 1184: 'situation', 1391: 'typical', 394: 'door', 1172: 'sick', 1412: 'variety', 176: 'break', 1316: 'tend', 1366: 'towards', 825: 'move', 1102: 'rushed', 736: 'local', 122: 'bar', 986: 'pool', 1452: 'wednesday', 152: 'birthday', 1335: 'third', 1149: 'sent', 1094: 'rock', 190: 'bun', 1202: 'soggy', 1161: 'share', 305: 'corne', 1469: 'wifi', 1399: 'unlike', 509: 'five', 947: 'perfection', 1018: 'properly', 1466: 'whole', 140: 'behind', 888: 'opened', 826: 'moved', 796: 'mexican', 74: 'anywhere', 1111: 'salsa', 374: 'dine', 563: 'glad', 1372: 'treated', 1268: 'strip', 761: 'majo', 1508: 'yum', 263: 'close', 1450: 'website', 265: 'closing', 264: 'closed', 105: 'avoid', 121: 'band', 629: 'hole', 512: 'flat', 343: 'dance', 172: 'boy', 1211: 'soon', 711: 'learn', 20: '90', 754: 'luckily', 956: 'pho', 524: 'foreve', 1217: 'south', 314: 'courteous', 655: 'important', 859: 'not', 900: 'otherwise', 283: 'compared', 584: 'grocery', 945: 'pepper', 327: 'crisp', 538: 'frozen', 498: 'filling', 42: 'agree', 640: 'hot', 1230: 'spinach', 460: 'expecting', 1292: 'sushi', 791: 'mention', 962: 'picky', 953: 'personally', 661: 'including', 317: 'cozy', 747: 'loud', 299: 'conversation', 607: 'hea', 236: 'cheape', 1068: 'relaxed', 198: 'butte', 335: 'curry', 1045: 'reading', 1346: 'to', 502: 'fine', 63: 'amount', 1186: 'sized', 690: 'kinda', 1352: 'tomato', 458: 'expectation', 998: 'prefe', 1278: 'suggest', 371: 'difference', 729: 'literally', 1147: 'send', 545: 'future', 1328: 'there', 147: 'beyond', 794: 'mess', 89: 'art', 463: 'experienced', 824: 'mouth', 36: 'advice', 869: 'offe', 1455: 'weird', 457: 'expect', 854: 'none', 778: 'me', 533: 'friday', 1273: 'stuffed', 1213: 'sort', 782: 'meatball', 154: 'bite', 257: 'clea', 1429: 'waite', 95: 'asking', 241: 'cheesecake', 1207: 'sometimes', 272: 'cold', 797: 'middle', 1218: 'spa', 1505: 'york', 556: 'giant', 662: 'incredible', 595: 'hai', 1496: 'writing', 234: 'charlotte', 1302: 'talked', 1488: 'worse', 1022: 'pub', 1354: 'tonight', 882: 'omg', 156: 'bland', 131: 'bean', 22: '99', 937: 'patty', 921: 'pape', 1204: 'solid', 1150: 'separate', 398: 'dozen', 260: 'cleaning', 1271: 'student', 1127: 'scottsdale', 256: 'classic', 1291: 'surprisingly', 1467: 'wide', 227: 'chain', 1261: 'stopped', 68: 'answered', 1038: 'rare', 1247: 'starting', 800: 'milk', 1277: 'suga', 897: 'original', 1087: 'rich', 1347: 'toast', 657: 'impressive', 1097: 'round', 1266: 'strawberry', 1009: 'prio', 323: 'creamy', 1208: 'somewhat', 811: 'mixed', 410: 'duck', 421: 'effort', 949: 'perhaps', 927: 'particularly', 274: 'combination', 634: 'honey', 1258: 'stomach', 771: 'market', 1175: 'simila', 353: 'decision', 725: 'likely', 748: 'lounge', 827: 'movie', 685: 'kept', 85: 'arizona', 1358: 'topping', 431: 'english', 332: 'crust', 623: 'highe', 1330: 'thick', 117: 'baked', 55: 'alright', 820: 'mood', 278: 'comfortable', 508: 'fit', 30: 'add', 971: 'plan', 1426: 'visiting', 601: 'happen', 1331: 'thin', 777: 'mayo', 342: 'damn', 493: 'figure', 1120: 'sausage', 379: 'disappoint', 437: 'entrance', 858: 'north', 80: 'apple', 146: 'beverage', 753: 'lowe', 165: 'booth', 1284: 'sunday', 454: 'exceptional', 1021: 'provided', 1059: 'recommendation', 445: 'evening', 1071: 'repai', 490: 'feeling', 1231: 'split', 495: 'filet', 1494: 'wrapped', 1287: 'supposed', 1402: 'upon', 1073: 'request', 1169: 'showe', 976: 'playing', 11: '24', 268: 'co', 1484: 'worker', 672: 'interesting', 816: 'monday', 726: 'limited', 485: 'favo', 716: 'leg', 302: 'cooking', 773: 'massage', 523: 'foot', 919: 'pain', 101: 'authentic', 1353: 'ton', 316: 'covered', 392: 'donut', 621: 'hidden', 1263: 'story', 1282: 'summe', 215: 'carry', 678: 'japanese', 1035: 'ramen', 1223: 'specialty', 902: 'out', 3: '11', 637: 'hoping', 1121: 'save', 1016: 'prompt', 511: 'fixed', 50: 'allowed', 1409: 'vacation', 110: 'az', 952: 'personal', 273: 'colo', 613: 'heat', 73: 'anyways', 985: 'poo', 1170: 'showed', 624: 'highlight', 721: 'life', 1401: 'update', 1165: 'shopping', 591: 'guest', 785: 'meet', 1369: 'training', 969: 'placed', 599: 'handle', 297: 'continue', 573: 'gotten', 819: 'montreal', 6: '14', 653: 'imagine', 936: 'patron', 1382: 'tuesday', 224: 'certain', 205: 'calamari', 868: 'odd', 1403: 'upset', 626: 'hip', 1270: 'stuck', 526: 'forgot', 409: 'dry', 209: 'calling', 1105: 'safe', 966: 'pittsburgh', 912: 'owned', 695: 'knowing', 1088: 'ride', 842: 'needle', 1400: 'up', 1325: 'that', 1506: 'you', 280: 'comment', 472: 'facility', 549: 'gem', 515: 'flavorful', 1363: 'tou', 291: 'conside', 1077: 'response', 955: 'phenomenal', 1056: 'recent', 612: 'heart', 693: 'knew', 202: 'caesa', 979: 'pleased', 673: 'interio', 1445: 'watching', 162: 'bone', 667: 'ingredient', 770: 'margarita', 834: 'nacho', 714: 'leaving', 1226: 'spending', 1365: 'tough', 942: 'pedicure', 226: 'chai', 261: 'clearly', 1032: 'quiet', 1167: 'shot', 246: 'chill', 1196: 'smoked', 143: 'besides', 717: 'lemon', 496: 'fill', 253: 'chose', 319: 'craft', 1499: 'yeah', 160: 'body', 1265: 'strange', 195: 'burrito', 1036: 'ran', 233: 'charged', 615: 'hell', 822: 'mostly', 1427: 'waffle', 988: 'popula', 894: 'order', 913: 'owner', 636: 'hopefully', 149: 'bigge', 408: 'drunk', 75: 'apart', 369: 'didnt', 932: 'pasta', 150: 'biggest', 293: 'consistent', 180: 'bringing', 277: 'comfort', 238: 'checked', 517: 'flight', 559: 'girlfriend', 566: 'god', 671: 'interested', 24: 'absolute', 1342: 'ticket', 383: 'discount', 9: '18', 813: 'moist', 182: 'broken', 1043: 're', 1072: 'replaced', 1440: 'wanting', 576: 'gravy', 619: 'helping', 249: 'chipotle', 312: 'coupon', 593: 'gym', 1049: 'realized', 491: 'fell', 1276: 'suck', 194: 'burnt', 284: 'complain', 109: 'awhile', 1370: 'travel', 402: 'drinking', 1192: 'smalle', 164: 'booked', 1064: 'refund', 61: 'ambience', 664: 'indian', 1104: 'sadly', 1417: 'vegetarian', 1283: 'sun', 856: 'normal', 903: 'outdoo', 1368: 'traditional', 1180: 'siste', 1431: 'waiter', 412: 'earlie', 220: 'casual', 1463: 'whethe', 1493: 'wrap', 650: 'iced', 1420: 'venue', 789: 'member', 1114: 'sample', 1495: 'write', 1415: 'vegan', 218: 'cashie', 883: 'on', 1315: 'ten', 734: 'lobby', 355: 'decorated', 505: 'fire', 944: 'peppe', 1232: 'spoke', 255: 'class', 396: 'doubt', 282: 'compare', 872: 'offering', 697: 'known', 596: 'haircut', 48: 'alcohol', 34: 'admit', 289: 'concept', 294: 'consistently', 388: 'dolla', 1259: 'stood', 1233: 'sport'}\n",
      "(1511,)\n"
     ]
    }
   ],
   "source": [
    "data=dataset()\n",
    "train_loader = DataLoader(data, batch_size=1024)\n",
    "print(data[5][0].shape)"
   ]
  },
  {
   "cell_type": "code",
   "execution_count": 41,
   "metadata": {},
   "outputs": [
    {
     "name": "stdout",
     "output_type": "stream",
     "text": [
      "(21046,)\n",
      "21046\n"
     ]
    }
   ],
   "source": [
    "print(x_train.shape)\n",
    "print(y_train.shape[0])"
   ]
  },
  {
   "cell_type": "code",
   "execution_count": 34,
   "metadata": {},
   "outputs": [],
   "source": [
    "class classifier(nn.Module):\n",
    "    def __init__(self,vocab_size,hidden1,hidden2):\n",
    "        super(classifier,self).__init__()\n",
    "        self.fc1=nn.Linear(vocab_size,hidden1)\n",
    "        self.fc2=nn.Linear(hidden1,hidden2)\n",
    "        self.fc3=nn.Linear(hidden2,1)\n",
    "    def forward(self,inputs):\n",
    "        x=F.relu(self.fc1(inputs.squeeze(1).float()))\n",
    "        x=F.relu(self.fc2(x))\n",
    "        return self.fc3(x)"
   ]
  },
  {
   "cell_type": "code",
   "execution_count": 35,
   "metadata": {},
   "outputs": [
    {
     "data": {
      "text/plain": [
       "classifier(\n",
       "  (fc1): Linear(in_features=1511, out_features=128, bias=True)\n",
       "  (fc2): Linear(in_features=128, out_features=64, bias=True)\n",
       "  (fc3): Linear(in_features=64, out_features=1, bias=True)\n",
       ")"
      ]
     },
     "execution_count": 35,
     "metadata": {},
     "output_type": "execute_result"
    }
   ],
   "source": [
    "model=classifier(len(data.token2idx), 128, 64)\n",
    "model"
   ]
  },
  {
   "cell_type": "code",
   "execution_count": 36,
   "metadata": {},
   "outputs": [],
   "source": [
    "criterion=nn.BCEWithLogitsLoss()\n",
    "optimizer=optim.Adam([p for p in model.parameters() if p.requires_grad],lr=10**-3)"
   ]
  },
  {
   "cell_type": "code",
   "execution_count": 37,
   "metadata": {},
   "outputs": [
    {
     "name": "stderr",
     "output_type": "stream",
     "text": [
      "  0%|                                                                                           | 0/10 [00:00<?, ?it/s]C:\\Users\\91884\\Anaconda3\\lib\\site-packages\\ipykernel_launcher.py:9: TqdmDeprecationWarning: This function will be removed in tqdm==5.0.0\n",
      "Please use `tqdm.notebook.tqdm` instead of `tqdm.tqdm_notebook`\n",
      "  if __name__ == '__main__':\n"
     ]
    },
    {
     "data": {
      "application/vnd.jupyter.widget-view+json": {
       "model_id": "",
       "version_major": 2,
       "version_minor": 0
      },
      "text/plain": [
       "HBox(children=(FloatProgress(value=0.0, max=21.0), HTML(value='')))"
      ]
     },
     "metadata": {},
     "output_type": "display_data"
    },
    {
     "name": "stderr",
     "output_type": "stream",
     "text": [
      " 10%|████████▎                                                                          | 1/10 [00:02<00:18,  2.08s/it]"
     ]
    },
    {
     "name": "stdout",
     "output_type": "stream",
     "text": [
      "Epoch #1\tTrain Loss: 0.670\n"
     ]
    },
    {
     "data": {
      "application/vnd.jupyter.widget-view+json": {
       "model_id": "",
       "version_major": 2,
       "version_minor": 0
      },
      "text/plain": [
       "HBox(children=(FloatProgress(value=0.0, max=21.0), HTML(value='')))"
      ]
     },
     "metadata": {},
     "output_type": "display_data"
    },
    {
     "name": "stderr",
     "output_type": "stream",
     "text": [
      " 20%|████████████████▌                                                                  | 2/10 [00:03<00:15,  1.96s/it]"
     ]
    },
    {
     "name": "stdout",
     "output_type": "stream",
     "text": [
      "Epoch #2\tTrain Loss: 0.298\n"
     ]
    },
    {
     "data": {
      "application/vnd.jupyter.widget-view+json": {
       "model_id": "",
       "version_major": 2,
       "version_minor": 0
      },
      "text/plain": [
       "HBox(children=(FloatProgress(value=0.0, max=21.0), HTML(value='')))"
      ]
     },
     "metadata": {},
     "output_type": "display_data"
    },
    {
     "name": "stderr",
     "output_type": "stream",
     "text": [
      " 30%|████████████████████████▉                                                          | 3/10 [00:05<00:12,  1.85s/it]"
     ]
    },
    {
     "name": "stdout",
     "output_type": "stream",
     "text": [
      "Epoch #3\tTrain Loss: 0.158\n"
     ]
    },
    {
     "data": {
      "application/vnd.jupyter.widget-view+json": {
       "model_id": "",
       "version_major": 2,
       "version_minor": 0
      },
      "text/plain": [
       "HBox(children=(FloatProgress(value=0.0, max=21.0), HTML(value='')))"
      ]
     },
     "metadata": {},
     "output_type": "display_data"
    },
    {
     "name": "stderr",
     "output_type": "stream",
     "text": [
      " 40%|█████████████████████████████████▏                                                 | 4/10 [00:07<00:10,  1.80s/it]"
     ]
    },
    {
     "name": "stdout",
     "output_type": "stream",
     "text": [
      "Epoch #4\tTrain Loss: 0.090\n"
     ]
    },
    {
     "data": {
      "application/vnd.jupyter.widget-view+json": {
       "model_id": "",
       "version_major": 2,
       "version_minor": 0
      },
      "text/plain": [
       "HBox(children=(FloatProgress(value=0.0, max=21.0), HTML(value='')))"
      ]
     },
     "metadata": {},
     "output_type": "display_data"
    },
    {
     "name": "stderr",
     "output_type": "stream",
     "text": [
      " 50%|█████████████████████████████████████████▌                                         | 5/10 [00:09<00:09,  1.92s/it]"
     ]
    },
    {
     "name": "stdout",
     "output_type": "stream",
     "text": [
      "Epoch #5\tTrain Loss: 0.059\n"
     ]
    },
    {
     "data": {
      "application/vnd.jupyter.widget-view+json": {
       "model_id": "",
       "version_major": 2,
       "version_minor": 0
      },
      "text/plain": [
       "HBox(children=(FloatProgress(value=0.0, max=21.0), HTML(value='')))"
      ]
     },
     "metadata": {},
     "output_type": "display_data"
    },
    {
     "name": "stderr",
     "output_type": "stream",
     "text": [
      " 60%|█████████████████████████████████████████████████▊                                 | 6/10 [00:11<00:07,  1.89s/it]"
     ]
    },
    {
     "name": "stdout",
     "output_type": "stream",
     "text": [
      "Epoch #6\tTrain Loss: 0.045\n"
     ]
    },
    {
     "data": {
      "application/vnd.jupyter.widget-view+json": {
       "model_id": "",
       "version_major": 2,
       "version_minor": 0
      },
      "text/plain": [
       "HBox(children=(FloatProgress(value=0.0, max=21.0), HTML(value='')))"
      ]
     },
     "metadata": {},
     "output_type": "display_data"
    },
    {
     "name": "stderr",
     "output_type": "stream",
     "text": [
      " 70%|██████████████████████████████████████████████████████████                         | 7/10 [00:12<00:05,  1.90s/it]"
     ]
    },
    {
     "name": "stdout",
     "output_type": "stream",
     "text": [
      "Epoch #7\tTrain Loss: 0.037\n"
     ]
    },
    {
     "data": {
      "application/vnd.jupyter.widget-view+json": {
       "model_id": "",
       "version_major": 2,
       "version_minor": 0
      },
      "text/plain": [
       "HBox(children=(FloatProgress(value=0.0, max=21.0), HTML(value='')))"
      ]
     },
     "metadata": {},
     "output_type": "display_data"
    },
    {
     "name": "stderr",
     "output_type": "stream",
     "text": [
      " 80%|██████████████████████████████████████████████████████████████████▍                | 8/10 [00:14<00:03,  1.87s/it]"
     ]
    },
    {
     "name": "stdout",
     "output_type": "stream",
     "text": [
      "Epoch #8\tTrain Loss: 0.031\n"
     ]
    },
    {
     "data": {
      "application/vnd.jupyter.widget-view+json": {
       "model_id": "",
       "version_major": 2,
       "version_minor": 0
      },
      "text/plain": [
       "HBox(children=(FloatProgress(value=0.0, max=21.0), HTML(value='')))"
      ]
     },
     "metadata": {},
     "output_type": "display_data"
    },
    {
     "name": "stderr",
     "output_type": "stream",
     "text": [
      " 90%|██████████████████████████████████████████████████████████████████████████▋        | 9/10 [00:16<00:01,  1.86s/it]"
     ]
    },
    {
     "name": "stdout",
     "output_type": "stream",
     "text": [
      "Epoch #9\tTrain Loss: 0.027\n"
     ]
    },
    {
     "data": {
      "application/vnd.jupyter.widget-view+json": {
       "model_id": "",
       "version_major": 2,
       "version_minor": 0
      },
      "text/plain": [
       "HBox(children=(FloatProgress(value=0.0, max=21.0), HTML(value='')))"
      ]
     },
     "metadata": {},
     "output_type": "display_data"
    },
    {
     "name": "stderr",
     "output_type": "stream",
     "text": [
      "100%|██████████████████████████████████████████████████████████████████████████████████| 10/10 [00:18<00:00,  1.84s/it]"
     ]
    },
    {
     "name": "stdout",
     "output_type": "stream",
     "text": [
      "Epoch #10\tTrain Loss: 0.024\n"
     ]
    },
    {
     "name": "stderr",
     "output_type": "stream",
     "text": [
      "\n"
     ]
    }
   ],
   "source": [
    "#training the model\n",
    "from tqdm import tqdm_notebook\n",
    "\n",
    "epochs=10\n",
    "total=0\n",
    "train_losses=[]\n",
    "model.train()\n",
    "for epoch in tqdm(range(epochs)):\n",
    "    progress_bar=tqdm_notebook(train_loader,leave=False)\n",
    "    losses=[]\n",
    "    correct=0\n",
    "    for inputs,target in progress_bar:\n",
    "        model.zero_grad()\n",
    "        output=model(inputs)\n",
    "        #print(output.shape)\n",
    "        #print(target.shape)\n",
    "        loss=criterion(output.squeeze(),target.float())\n",
    "        loss.backward()\n",
    "        nn.utils.clip_grad_norm_(model.parameters(), 3)\n",
    "        optimizer.step()\n",
    "        correct += (output == target).float().sum()\n",
    "        progress_bar.set_description(f'Loss: {loss.item():.3f}')\n",
    "        losses.append(loss.item())\n",
    "        total += 1\n",
    "    epoch_loss = sum(losses) / total\n",
    "    train_losses.append(epoch_loss)   \n",
    "    tqdm.write(f'Epoch #{epoch + 1}\\tTrain Loss: {epoch_loss:.3f}')"
   ]
  },
  {
   "cell_type": "code",
   "execution_count": 38,
   "metadata": {},
   "outputs": [
    {
     "data": {
      "text/plain": [
       "(5262,)"
      ]
     },
     "execution_count": 38,
     "metadata": {},
     "output_type": "execute_result"
    }
   ],
   "source": [
    "x_test.shape"
   ]
  },
  {
   "cell_type": "code",
   "execution_count": 40,
   "metadata": {},
   "outputs": [
    {
     "data": {
      "text/plain": [
       "(5262,)"
      ]
     },
     "execution_count": 40,
     "metadata": {},
     "output_type": "execute_result"
    }
   ],
   "source": [
    "y_test.shape"
   ]
  },
  {
   "cell_type": "code",
   "execution_count": 52,
   "metadata": {},
   "outputs": [],
   "source": [
    "from sklearn.metrics import accuracy_score\n",
    "def predict(text):\n",
    "    y_pred=[]\n",
    "    model.eval()\n",
    "    with torch.no_grad():\n",
    "        test_vector = torch.LongTensor(data.tf.transform([text]).toarray())\n",
    "\n",
    "        output = model(test_vector)\n",
    "        prediction = torch.sigmoid(output).item()\n",
    "\n",
    "        if prediction > 0.5:\n",
    "            #print(f'{prediction:0.3}: Positive sentiment')\n",
    "            return 1\n",
    "            #y_pred.append(1)\n",
    "        else:\n",
    "            #print(f'{prediction:0.3}: Negative sentiment')\n",
    "            #y_pred.append(0)\n",
    "            return 0"
   ]
  },
  {
   "cell_type": "code",
   "execution_count": 53,
   "metadata": {},
   "outputs": [
    {
     "name": "stdout",
     "output_type": "stream",
     "text": [
      "Accuracy is: 65.54541999239832\n"
     ]
    }
   ],
   "source": [
    "count=0\n",
    "for i in range(x_test.shape[0]):\n",
    "    text=x_test[i]\n",
    "    val=predict(text)\n",
    "    if val==y_test[i]:\n",
    "        count+=1\n",
    "print('Accuracy is:',100*count/x_test.shape[0])\n"
   ]
  },
  {
   "cell_type": "code",
   "execution_count": null,
   "metadata": {},
   "outputs": [],
   "source": []
  },
  {
   "cell_type": "code",
   "execution_count": null,
   "metadata": {},
   "outputs": [],
   "source": []
  },
  {
   "cell_type": "code",
   "execution_count": null,
   "metadata": {},
   "outputs": [],
   "source": []
  },
  {
   "cell_type": "code",
   "execution_count": null,
   "metadata": {},
   "outputs": [],
   "source": []
  },
  {
   "cell_type": "code",
   "execution_count": null,
   "metadata": {},
   "outputs": [],
   "source": []
  },
  {
   "cell_type": "code",
   "execution_count": null,
   "metadata": {},
   "outputs": [],
   "source": []
  },
  {
   "cell_type": "code",
   "execution_count": null,
   "metadata": {},
   "outputs": [],
   "source": []
  },
  {
   "cell_type": "code",
   "execution_count": null,
   "metadata": {},
   "outputs": [],
   "source": []
  }
 ],
 "metadata": {
  "kernelspec": {
   "display_name": "Python 3",
   "language": "python",
   "name": "python3"
  },
  "language_info": {
   "codemirror_mode": {
    "name": "ipython",
    "version": 3
   },
   "file_extension": ".py",
   "mimetype": "text/x-python",
   "name": "python",
   "nbconvert_exporter": "python",
   "pygments_lexer": "ipython3",
   "version": "3.7.4"
  }
 },
 "nbformat": 4,
 "nbformat_minor": 2
}
