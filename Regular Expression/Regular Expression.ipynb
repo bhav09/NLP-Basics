{
 "cells": [
  {
   "cell_type": "markdown",
   "metadata": {},
   "source": [
    "## Regular Expression"
   ]
  },
  {
   "cell_type": "code",
   "execution_count": 1,
   "metadata": {},
   "outputs": [],
   "source": [
    "import re"
   ]
  },
  {
   "cell_type": "code",
   "execution_count": 2,
   "metadata": {},
   "outputs": [],
   "source": [
    "paragraph='''I recently released the crackle keyboard layout that is designed to make special characters easier to type (and remember).\n",
    "https://medium.com/@jack_21924/crackle-keyboard-layout-for-special-characters-e4dd04838231\n",
    "The following is sample text I used to practice special characters using keybr.com:\n",
    "112233445566778899 Saturn V rocket’s first stage carries 203,400 gallons (770,000 liters) of kerosene fuel and 318,000 gallons (1.2 million liters) of liquid oxygen needed for combustion. At liftoff, the stage’s five F-1 rocket engines ignite and produce 7.5 million pounds of thrust.\n",
    "//// 1111 ^^^^ 2222 — — 3333 !!!! 4444 &&&& 5555 %%%% 6666 ???? 7777\n",
    "To replace those goofy quantities with the far less retarded metric system (even though liters are considered part of the metric system they are the same as cubic deci-meters) you would say 770 cubic meters of kerosene {abbreviated as m3} and 1,204 m3 of liquid O2 [O2 is the symbol for oxygen]. We would also say it produced 33,600,000 newtons of force <abbreviated as N>.\n",
    "— — 3333 ~~~~ 9999 :::: 8888 ;;;; 6776 ```` 2332 ‘’’’ 3323 “””” 4343 @@@@\n",
    "To add scientific notation {a way of writing numbers that allows you to write only as many digits `of specificity` as you would like} you can write 7.7 * 10 ^ 2 m3 of kerosene 1.204 * 10 ^ 3 m3 of O2 and 3.3 * 10 ^ 7 newtons.\n",
    "<<<< >>>> {{{{ }}}} (((( )))) [[[[ ]]]]\n",
    "Another way to write scientific notation is to replace the “* 10 ^” with ‘E’ -/capital e\\-. So our numbers would look like:s\n",
    "#### 7.7 E 2\n",
    "==== 1.2 E 3\n",
    "%%%% 3.3 E 7\n",
    "???? %%%% &&&& !!!! ^^^^ — — **** ++++ ===='''"
   ]
  },
  {
   "cell_type": "code",
   "execution_count": 4,
   "metadata": {},
   "outputs": [
    {
     "name": "stdout",
     "output_type": "stream",
     "text": [
      "He was a good man\n",
      " and a great father.\n",
      "He was a good man\\n and a great father.\n"
     ]
    }
   ],
   "source": [
    "#let us understand what a raw string is:\n",
    "print('He was a good man\\n and a great father.')\n",
    "print(r'He was a good man\\n and a great father.')\n",
    "#raw string lets you consider the tokens that have been reserved for special purpose like \\t, \\n etc"
   ]
  },
  {
   "cell_type": "code",
   "execution_count": 11,
   "metadata": {},
   "outputs": [
    {
     "name": "stdout",
     "output_type": "stream",
     "text": [
      "<re.Match object; span=(0, 1), match='I'>\n",
      "<re.Match object; span=(243, 244), match='I'>\n"
     ]
    }
   ],
   "source": [
    "#regular expression package is case sensitive\n",
    "pattern=re.compile(r'I')\n",
    "#print(word)\n",
    "founds=pattern.finditer(paragraph)\n",
    "for found in founds:\n",
    "    print(found)\n",
    "#here span represents the index location"
   ]
  },
  {
   "cell_type": "code",
   "execution_count": 13,
   "metadata": {},
   "outputs": [
    {
     "name": "stdout",
     "output_type": "stream",
     "text": [
      "[<re.Match object; span=(317, 332), match='Saturn V rocket'>]\n"
     ]
    }
   ],
   "source": [
    "pattern=re.compile('Saturn V rocket')\n",
    "print(list(pattern.finditer(paragraph)))"
   ]
  },
  {
   "cell_type": "code",
   "execution_count": 14,
   "metadata": {},
   "outputs": [
    {
     "name": "stdout",
     "output_type": "stream",
     "text": [
      "[<re.Match object; span=(1055, 1056), match=';'>, <re.Match object; span=(1056, 1057), match=';'>, <re.Match object; span=(1057, 1058), match=';'>, <re.Match object; span=(1058, 1059), match=';'>]\n"
     ]
    }
   ],
   "source": [
    "#similarly for special characters\n",
    "semicolon=re.compile(r';')\n",
    "print(list(semicolon.finditer(paragraph)))"
   ]
  },
  {
   "cell_type": "code",
   "execution_count": 15,
   "metadata": {},
   "outputs": [
    {
     "name": "stdout",
     "output_type": "stream",
     "text": [
      "[<re.Match object; span=(0, 1), match='I'>, <re.Match object; span=(1, 2), match=' '>, <re.Match object; span=(2, 3), match='r'>, <re.Match object; span=(3, 4), match='e'>, <re.Match object; span=(4, 5), match='c'>, <re.Match object; span=(5, 6), match='e'>, <re.Match object; span=(6, 7), match='n'>, <re.Match object; span=(7, 8), match='t'>, <re.Match object; span=(8, 9), match='l'>, <re.Match object; span=(9, 10), match='y'>, <re.Match object; span=(10, 11), match=' '>, <re.Match object; span=(11, 12), match='r'>, <re.Match object; span=(12, 13), match='e'>, <re.Match object; span=(13, 14), match='l'>, <re.Match object; span=(14, 15), match='e'>, <re.Match object; span=(15, 16), match='a'>, <re.Match object; span=(16, 17), match='s'>, <re.Match object; span=(17, 18), match='e'>, <re.Match object; span=(18, 19), match='d'>, <re.Match object; span=(19, 20), match=' '>, <re.Match object; span=(20, 21), match='t'>, <re.Match object; span=(21, 22), match='h'>, <re.Match object; span=(22, 23), match='e'>, <re.Match object; span=(23, 24), match=' '>, <re.Match object; span=(24, 25), match='c'>, <re.Match object; span=(25, 26), match='r'>, <re.Match object; span=(26, 27), match='a'>, <re.Match object; span=(27, 28), match='c'>, <re.Match object; span=(28, 29), match='k'>, <re.Match object; span=(29, 30), match='l'>, <re.Match object; span=(30, 31), match='e'>, <re.Match object; span=(31, 32), match=' '>, <re.Match object; span=(32, 33), match='k'>, <re.Match object; span=(33, 34), match='e'>, <re.Match object; span=(34, 35), match='y'>, <re.Match object; span=(35, 36), match='b'>, <re.Match object; span=(36, 37), match='o'>, <re.Match object; span=(37, 38), match='a'>, <re.Match object; span=(38, 39), match='r'>, <re.Match object; span=(39, 40), match='d'>, <re.Match object; span=(40, 41), match=' '>, <re.Match object; span=(41, 42), match='l'>, <re.Match object; span=(42, 43), match='a'>, <re.Match object; span=(43, 44), match='y'>, <re.Match object; span=(44, 45), match='o'>, <re.Match object; span=(45, 46), match='u'>, <re.Match object; span=(46, 47), match='t'>, <re.Match object; span=(47, 48), match=' '>, <re.Match object; span=(48, 49), match='t'>, <re.Match object; span=(49, 50), match='h'>, <re.Match object; span=(50, 51), match='a'>, <re.Match object; span=(51, 52), match='t'>, <re.Match object; span=(52, 53), match=' '>, <re.Match object; span=(53, 54), match='i'>, <re.Match object; span=(54, 55), match='s'>, <re.Match object; span=(55, 56), match=' '>, <re.Match object; span=(56, 57), match='d'>, <re.Match object; span=(57, 58), match='e'>, <re.Match object; span=(58, 59), match='s'>, <re.Match object; span=(59, 60), match='i'>, <re.Match object; span=(60, 61), match='g'>, <re.Match object; span=(61, 62), match='n'>, <re.Match object; span=(62, 63), match='e'>, <re.Match object; span=(63, 64), match='d'>, <re.Match object; span=(64, 65), match=' '>, <re.Match object; span=(65, 66), match='t'>, <re.Match object; span=(66, 67), match='o'>, <re.Match object; span=(67, 68), match=' '>, <re.Match object; span=(68, 69), match='m'>, <re.Match object; span=(69, 70), match='a'>, <re.Match object; span=(70, 71), match='k'>, <re.Match object; span=(71, 72), match='e'>, <re.Match object; span=(72, 73), match=' '>, <re.Match object; span=(73, 74), match='s'>, <re.Match object; span=(74, 75), match='p'>, <re.Match object; span=(75, 76), match='e'>, <re.Match object; span=(76, 77), match='c'>, <re.Match object; span=(77, 78), match='i'>, <re.Match object; span=(78, 79), match='a'>, <re.Match object; span=(79, 80), match='l'>, <re.Match object; span=(80, 81), match=' '>, <re.Match object; span=(81, 82), match='c'>, <re.Match object; span=(82, 83), match='h'>, <re.Match object; span=(83, 84), match='a'>, <re.Match object; span=(84, 85), match='r'>, <re.Match object; span=(85, 86), match='a'>, <re.Match object; span=(86, 87), match='c'>, <re.Match object; span=(87, 88), match='t'>, <re.Match object; span=(88, 89), match='e'>, <re.Match object; span=(89, 90), match='r'>, <re.Match object; span=(90, 91), match='s'>, <re.Match object; span=(91, 92), match=' '>, <re.Match object; span=(92, 93), match='e'>, <re.Match object; span=(93, 94), match='a'>, <re.Match object; span=(94, 95), match='s'>, <re.Match object; span=(95, 96), match='i'>, <re.Match object; span=(96, 97), match='e'>, <re.Match object; span=(97, 98), match='r'>, <re.Match object; span=(98, 99), match=' '>, <re.Match object; span=(99, 100), match='t'>, <re.Match object; span=(100, 101), match='o'>, <re.Match object; span=(101, 102), match=' '>, <re.Match object; span=(102, 103), match='t'>, <re.Match object; span=(103, 104), match='y'>, <re.Match object; span=(104, 105), match='p'>, <re.Match object; span=(105, 106), match='e'>, <re.Match object; span=(106, 107), match=' '>, <re.Match object; span=(107, 108), match='('>, <re.Match object; span=(108, 109), match='a'>, <re.Match object; span=(109, 110), match='n'>, <re.Match object; span=(110, 111), match='d'>, <re.Match object; span=(111, 112), match=' '>, <re.Match object; span=(112, 113), match='r'>, <re.Match object; span=(113, 114), match='e'>, <re.Match object; span=(114, 115), match='m'>, <re.Match object; span=(115, 116), match='e'>, <re.Match object; span=(116, 117), match='m'>, <re.Match object; span=(117, 118), match='b'>, <re.Match object; span=(118, 119), match='e'>, <re.Match object; span=(119, 120), match='r'>, <re.Match object; span=(120, 121), match=')'>, <re.Match object; span=(121, 122), match='.'>, <re.Match object; span=(123, 124), match='h'>, <re.Match object; span=(124, 125), match='t'>, <re.Match object; span=(125, 126), match='t'>, <re.Match object; span=(126, 127), match='p'>, <re.Match object; span=(127, 128), match='s'>, <re.Match object; span=(128, 129), match=':'>, <re.Match object; span=(129, 130), match='/'>, <re.Match object; span=(130, 131), match='/'>, <re.Match object; span=(131, 132), match='m'>, <re.Match object; span=(132, 133), match='e'>, <re.Match object; span=(133, 134), match='d'>, <re.Match object; span=(134, 135), match='i'>, <re.Match object; span=(135, 136), match='u'>, <re.Match object; span=(136, 137), match='m'>, <re.Match object; span=(137, 138), match='.'>, <re.Match object; span=(138, 139), match='c'>, <re.Match object; span=(139, 140), match='o'>, <re.Match object; span=(140, 141), match='m'>, <re.Match object; span=(141, 142), match='/'>, <re.Match object; span=(142, 143), match='@'>, <re.Match object; span=(143, 144), match='j'>, <re.Match object; span=(144, 145), match='a'>, <re.Match object; span=(145, 146), match='c'>, <re.Match object; span=(146, 147), match='k'>, <re.Match object; span=(147, 148), match='_'>, <re.Match object; span=(148, 149), match='2'>, <re.Match object; span=(149, 150), match='1'>, <re.Match object; span=(150, 151), match='9'>, <re.Match object; span=(151, 152), match='2'>, <re.Match object; span=(152, 153), match='4'>, <re.Match object; span=(153, 154), match='/'>, <re.Match object; span=(154, 155), match='c'>, <re.Match object; span=(155, 156), match='r'>, <re.Match object; span=(156, 157), match='a'>, <re.Match object; span=(157, 158), match='c'>, <re.Match object; span=(158, 159), match='k'>, <re.Match object; span=(159, 160), match='l'>, <re.Match object; span=(160, 161), match='e'>, <re.Match object; span=(161, 162), match='-'>, <re.Match object; span=(162, 163), match='k'>, <re.Match object; span=(163, 164), match='e'>, <re.Match object; span=(164, 165), match='y'>, <re.Match object; span=(165, 166), match='b'>, <re.Match object; span=(166, 167), match='o'>, <re.Match object; span=(167, 168), match='a'>, <re.Match object; span=(168, 169), match='r'>, <re.Match object; span=(169, 170), match='d'>, <re.Match object; span=(170, 171), match='-'>, <re.Match object; span=(171, 172), match='l'>, <re.Match object; span=(172, 173), match='a'>, <re.Match object; span=(173, 174), match='y'>, <re.Match object; span=(174, 175), match='o'>, <re.Match object; span=(175, 176), match='u'>, <re.Match object; span=(176, 177), match='t'>, <re.Match object; span=(177, 178), match='-'>, <re.Match object; span=(178, 179), match='f'>, <re.Match object; span=(179, 180), match='o'>, <re.Match object; span=(180, 181), match='r'>, <re.Match object; span=(181, 182), match='-'>, <re.Match object; span=(182, 183), match='s'>, <re.Match object; span=(183, 184), match='p'>, <re.Match object; span=(184, 185), match='e'>, <re.Match object; span=(185, 186), match='c'>, <re.Match object; span=(186, 187), match='i'>, <re.Match object; span=(187, 188), match='a'>, <re.Match object; span=(188, 189), match='l'>, <re.Match object; span=(189, 190), match='-'>, <re.Match object; span=(190, 191), match='c'>, <re.Match object; span=(191, 192), match='h'>, <re.Match object; span=(192, 193), match='a'>, <re.Match object; span=(193, 194), match='r'>, <re.Match object; span=(194, 195), match='a'>, <re.Match object; span=(195, 196), match='c'>, <re.Match object; span=(196, 197), match='t'>, <re.Match object; span=(197, 198), match='e'>, <re.Match object; span=(198, 199), match='r'>, <re.Match object; span=(199, 200), match='s'>, <re.Match object; span=(200, 201), match='-'>, <re.Match object; span=(201, 202), match='e'>, <re.Match object; span=(202, 203), match='4'>, <re.Match object; span=(203, 204), match='d'>, <re.Match object; span=(204, 205), match='d'>, <re.Match object; span=(205, 206), match='0'>, <re.Match object; span=(206, 207), match='4'>, <re.Match object; span=(207, 208), match='8'>, <re.Match object; span=(208, 209), match='3'>, <re.Match object; span=(209, 210), match='8'>, <re.Match object; span=(210, 211), match='2'>, <re.Match object; span=(211, 212), match='3'>, <re.Match object; span=(212, 213), match='1'>, <re.Match object; span=(214, 215), match='T'>, <re.Match object; span=(215, 216), match='h'>, <re.Match object; span=(216, 217), match='e'>, <re.Match object; span=(217, 218), match=' '>, <re.Match object; span=(218, 219), match='f'>, <re.Match object; span=(219, 220), match='o'>, <re.Match object; span=(220, 221), match='l'>, <re.Match object; span=(221, 222), match='l'>, <re.Match object; span=(222, 223), match='o'>, <re.Match object; span=(223, 224), match='w'>, <re.Match object; span=(224, 225), match='i'>, <re.Match object; span=(225, 226), match='n'>, <re.Match object; span=(226, 227), match='g'>, <re.Match object; span=(227, 228), match=' '>, <re.Match object; span=(228, 229), match='i'>, <re.Match object; span=(229, 230), match='s'>, <re.Match object; span=(230, 231), match=' '>, <re.Match object; span=(231, 232), match='s'>, <re.Match object; span=(232, 233), match='a'>, <re.Match object; span=(233, 234), match='m'>, <re.Match object; span=(234, 235), match='p'>, <re.Match object; span=(235, 236), match='l'>, <re.Match object; span=(236, 237), match='e'>, <re.Match object; span=(237, 238), match=' '>, <re.Match object; span=(238, 239), match='t'>, <re.Match object; span=(239, 240), match='e'>, <re.Match object; span=(240, 241), match='x'>, <re.Match object; span=(241, 242), match='t'>, <re.Match object; span=(242, 243), match=' '>, <re.Match object; span=(243, 244), match='I'>, <re.Match object; span=(244, 245), match=' '>, <re.Match object; span=(245, 246), match='u'>, <re.Match object; span=(246, 247), match='s'>, <re.Match object; span=(247, 248), match='e'>, <re.Match object; span=(248, 249), match='d'>, <re.Match object; span=(249, 250), match=' '>, <re.Match object; span=(250, 251), match='t'>, <re.Match object; span=(251, 252), match='o'>, <re.Match object; span=(252, 253), match=' '>, <re.Match object; span=(253, 254), match='p'>, <re.Match object; span=(254, 255), match='r'>, <re.Match object; span=(255, 256), match='a'>, <re.Match object; span=(256, 257), match='c'>, <re.Match object; span=(257, 258), match='t'>, <re.Match object; span=(258, 259), match='i'>, <re.Match object; span=(259, 260), match='c'>, <re.Match object; span=(260, 261), match='e'>, <re.Match object; span=(261, 262), match=' '>, <re.Match object; span=(262, 263), match='s'>, <re.Match object; span=(263, 264), match='p'>, <re.Match object; span=(264, 265), match='e'>, <re.Match object; span=(265, 266), match='c'>, <re.Match object; span=(266, 267), match='i'>, <re.Match object; span=(267, 268), match='a'>, <re.Match object; span=(268, 269), match='l'>, <re.Match object; span=(269, 270), match=' '>, <re.Match object; span=(270, 271), match='c'>, <re.Match object; span=(271, 272), match='h'>, <re.Match object; span=(272, 273), match='a'>, <re.Match object; span=(273, 274), match='r'>, <re.Match object; span=(274, 275), match='a'>, <re.Match object; span=(275, 276), match='c'>, <re.Match object; span=(276, 277), match='t'>, <re.Match object; span=(277, 278), match='e'>, <re.Match object; span=(278, 279), match='r'>, <re.Match object; span=(279, 280), match='s'>, <re.Match object; span=(280, 281), match=' '>, <re.Match object; span=(281, 282), match='u'>, <re.Match object; span=(282, 283), match='s'>, <re.Match object; span=(283, 284), match='i'>, <re.Match object; span=(284, 285), match='n'>, <re.Match object; span=(285, 286), match='g'>, <re.Match object; span=(286, 287), match=' '>, <re.Match object; span=(287, 288), match='k'>, <re.Match object; span=(288, 289), match='e'>, <re.Match object; span=(289, 290), match='y'>, <re.Match object; span=(290, 291), match='b'>, <re.Match object; span=(291, 292), match='r'>, <re.Match object; span=(292, 293), match='.'>, <re.Match object; span=(293, 294), match='c'>, <re.Match object; span=(294, 295), match='o'>, <re.Match object; span=(295, 296), match='m'>, <re.Match object; span=(296, 297), match=':'>, <re.Match object; span=(298, 299), match='1'>, <re.Match object; span=(299, 300), match='1'>, <re.Match object; span=(300, 301), match='2'>, <re.Match object; span=(301, 302), match='2'>, <re.Match object; span=(302, 303), match='3'>, <re.Match object; span=(303, 304), match='3'>, <re.Match object; span=(304, 305), match='4'>, <re.Match object; span=(305, 306), match='4'>, <re.Match object; span=(306, 307), match='5'>, <re.Match object; span=(307, 308), match='5'>, <re.Match object; span=(308, 309), match='6'>, <re.Match object; span=(309, 310), match='6'>, <re.Match object; span=(310, 311), match='7'>, <re.Match object; span=(311, 312), match='7'>, <re.Match object; span=(312, 313), match='8'>, <re.Match object; span=(313, 314), match='8'>, <re.Match object; span=(314, 315), match='9'>, <re.Match object; span=(315, 316), match='9'>, <re.Match object; span=(316, 317), match=' '>, <re.Match object; span=(317, 318), match='S'>, <re.Match object; span=(318, 319), match='a'>, <re.Match object; span=(319, 320), match='t'>, <re.Match object; span=(320, 321), match='u'>, <re.Match object; span=(321, 322), match='r'>, <re.Match object; span=(322, 323), match='n'>, <re.Match object; span=(323, 324), match=' '>, <re.Match object; span=(324, 325), match='V'>, <re.Match object; span=(325, 326), match=' '>, <re.Match object; span=(326, 327), match='r'>, <re.Match object; span=(327, 328), match='o'>, <re.Match object; span=(328, 329), match='c'>, <re.Match object; span=(329, 330), match='k'>, <re.Match object; span=(330, 331), match='e'>, <re.Match object; span=(331, 332), match='t'>, <re.Match object; span=(332, 333), match='’'>, <re.Match object; span=(333, 334), match='s'>, <re.Match object; span=(334, 335), match=' '>, <re.Match object; span=(335, 336), match='f'>, <re.Match object; span=(336, 337), match='i'>, <re.Match object; span=(337, 338), match='r'>, <re.Match object; span=(338, 339), match='s'>, <re.Match object; span=(339, 340), match='t'>, <re.Match object; span=(340, 341), match=' '>, <re.Match object; span=(341, 342), match='s'>, <re.Match object; span=(342, 343), match='t'>, <re.Match object; span=(343, 344), match='a'>, <re.Match object; span=(344, 345), match='g'>, <re.Match object; span=(345, 346), match='e'>, <re.Match object; span=(346, 347), match=' '>, <re.Match object; span=(347, 348), match='c'>, <re.Match object; span=(348, 349), match='a'>, <re.Match object; span=(349, 350), match='r'>, <re.Match object; span=(350, 351), match='r'>, <re.Match object; span=(351, 352), match='i'>, <re.Match object; span=(352, 353), match='e'>, <re.Match object; span=(353, 354), match='s'>, <re.Match object; span=(354, 355), match=' '>, <re.Match object; span=(355, 356), match='2'>, <re.Match object; span=(356, 357), match='0'>, <re.Match object; span=(357, 358), match='3'>, <re.Match object; span=(358, 359), match=','>, <re.Match object; span=(359, 360), match='4'>, <re.Match object; span=(360, 361), match='0'>, <re.Match object; span=(361, 362), match='0'>, <re.Match object; span=(362, 363), match=' '>, <re.Match object; span=(363, 364), match='g'>, <re.Match object; span=(364, 365), match='a'>, <re.Match object; span=(365, 366), match='l'>, <re.Match object; span=(366, 367), match='l'>, <re.Match object; span=(367, 368), match='o'>, <re.Match object; span=(368, 369), match='n'>, <re.Match object; span=(369, 370), match='s'>, <re.Match object; span=(370, 371), match=' '>, <re.Match object; span=(371, 372), match='('>, <re.Match object; span=(372, 373), match='7'>, <re.Match object; span=(373, 374), match='7'>, <re.Match object; span=(374, 375), match='0'>, <re.Match object; span=(375, 376), match=','>, <re.Match object; span=(376, 377), match='0'>, <re.Match object; span=(377, 378), match='0'>, <re.Match object; span=(378, 379), match='0'>, <re.Match object; span=(379, 380), match=' '>, <re.Match object; span=(380, 381), match='l'>, <re.Match object; span=(381, 382), match='i'>, <re.Match object; span=(382, 383), match='t'>, <re.Match object; span=(383, 384), match='e'>, <re.Match object; span=(384, 385), match='r'>, <re.Match object; span=(385, 386), match='s'>, <re.Match object; span=(386, 387), match=')'>, <re.Match object; span=(387, 388), match=' '>, <re.Match object; span=(388, 389), match='o'>, <re.Match object; span=(389, 390), match='f'>, <re.Match object; span=(390, 391), match=' '>, <re.Match object; span=(391, 392), match='k'>, <re.Match object; span=(392, 393), match='e'>, <re.Match object; span=(393, 394), match='r'>, <re.Match object; span=(394, 395), match='o'>, <re.Match object; span=(395, 396), match='s'>, <re.Match object; span=(396, 397), match='e'>, <re.Match object; span=(397, 398), match='n'>, <re.Match object; span=(398, 399), match='e'>, <re.Match object; span=(399, 400), match=' '>, <re.Match object; span=(400, 401), match='f'>, <re.Match object; span=(401, 402), match='u'>, <re.Match object; span=(402, 403), match='e'>, <re.Match object; span=(403, 404), match='l'>, <re.Match object; span=(404, 405), match=' '>, <re.Match object; span=(405, 406), match='a'>, <re.Match object; span=(406, 407), match='n'>, <re.Match object; span=(407, 408), match='d'>, <re.Match object; span=(408, 409), match=' '>, <re.Match object; span=(409, 410), match='3'>, <re.Match object; span=(410, 411), match='1'>, <re.Match object; span=(411, 412), match='8'>, <re.Match object; span=(412, 413), match=','>, <re.Match object; span=(413, 414), match='0'>, <re.Match object; span=(414, 415), match='0'>, <re.Match object; span=(415, 416), match='0'>, <re.Match object; span=(416, 417), match=' '>, <re.Match object; span=(417, 418), match='g'>, <re.Match object; span=(418, 419), match='a'>, <re.Match object; span=(419, 420), match='l'>, <re.Match object; span=(420, 421), match='l'>, <re.Match object; span=(421, 422), match='o'>, <re.Match object; span=(422, 423), match='n'>, <re.Match object; span=(423, 424), match='s'>, <re.Match object; span=(424, 425), match=' '>, <re.Match object; span=(425, 426), match='('>, <re.Match object; span=(426, 427), match='1'>, <re.Match object; span=(427, 428), match='.'>, <re.Match object; span=(428, 429), match='2'>, <re.Match object; span=(429, 430), match=' '>, <re.Match object; span=(430, 431), match='m'>, <re.Match object; span=(431, 432), match='i'>, <re.Match object; span=(432, 433), match='l'>, <re.Match object; span=(433, 434), match='l'>, <re.Match object; span=(434, 435), match='i'>, <re.Match object; span=(435, 436), match='o'>, <re.Match object; span=(436, 437), match='n'>, <re.Match object; span=(437, 438), match=' '>, <re.Match object; span=(438, 439), match='l'>, <re.Match object; span=(439, 440), match='i'>, <re.Match object; span=(440, 441), match='t'>, <re.Match object; span=(441, 442), match='e'>, <re.Match object; span=(442, 443), match='r'>, <re.Match object; span=(443, 444), match='s'>, <re.Match object; span=(444, 445), match=')'>, <re.Match object; span=(445, 446), match=' '>, <re.Match object; span=(446, 447), match='o'>, <re.Match object; span=(447, 448), match='f'>, <re.Match object; span=(448, 449), match=' '>, <re.Match object; span=(449, 450), match='l'>, <re.Match object; span=(450, 451), match='i'>, <re.Match object; span=(451, 452), match='q'>, <re.Match object; span=(452, 453), match='u'>, <re.Match object; span=(453, 454), match='i'>, <re.Match object; span=(454, 455), match='d'>, <re.Match object; span=(455, 456), match=' '>, <re.Match object; span=(456, 457), match='o'>, <re.Match object; span=(457, 458), match='x'>, <re.Match object; span=(458, 459), match='y'>, <re.Match object; span=(459, 460), match='g'>, <re.Match object; span=(460, 461), match='e'>, <re.Match object; span=(461, 462), match='n'>, <re.Match object; span=(462, 463), match=' '>, <re.Match object; span=(463, 464), match='n'>, <re.Match object; span=(464, 465), match='e'>, <re.Match object; span=(465, 466), match='e'>, <re.Match object; span=(466, 467), match='d'>, <re.Match object; span=(467, 468), match='e'>, <re.Match object; span=(468, 469), match='d'>, <re.Match object; span=(469, 470), match=' '>, <re.Match object; span=(470, 471), match='f'>, <re.Match object; span=(471, 472), match='o'>, <re.Match object; span=(472, 473), match='r'>, <re.Match object; span=(473, 474), match=' '>, <re.Match object; span=(474, 475), match='c'>, <re.Match object; span=(475, 476), match='o'>, <re.Match object; span=(476, 477), match='m'>, <re.Match object; span=(477, 478), match='b'>, <re.Match object; span=(478, 479), match='u'>, <re.Match object; span=(479, 480), match='s'>, <re.Match object; span=(480, 481), match='t'>, <re.Match object; span=(481, 482), match='i'>, <re.Match object; span=(482, 483), match='o'>, <re.Match object; span=(483, 484), match='n'>, <re.Match object; span=(484, 485), match='.'>, <re.Match object; span=(485, 486), match=' '>, <re.Match object; span=(486, 487), match='A'>, <re.Match object; span=(487, 488), match='t'>, <re.Match object; span=(488, 489), match=' '>, <re.Match object; span=(489, 490), match='l'>, <re.Match object; span=(490, 491), match='i'>, <re.Match object; span=(491, 492), match='f'>, <re.Match object; span=(492, 493), match='t'>, <re.Match object; span=(493, 494), match='o'>, <re.Match object; span=(494, 495), match='f'>, <re.Match object; span=(495, 496), match='f'>, <re.Match object; span=(496, 497), match=','>, <re.Match object; span=(497, 498), match=' '>, <re.Match object; span=(498, 499), match='t'>, <re.Match object; span=(499, 500), match='h'>, <re.Match object; span=(500, 501), match='e'>, <re.Match object; span=(501, 502), match=' '>, <re.Match object; span=(502, 503), match='s'>, <re.Match object; span=(503, 504), match='t'>, <re.Match object; span=(504, 505), match='a'>, <re.Match object; span=(505, 506), match='g'>, <re.Match object; span=(506, 507), match='e'>, <re.Match object; span=(507, 508), match='’'>, <re.Match object; span=(508, 509), match='s'>, <re.Match object; span=(509, 510), match=' '>, <re.Match object; span=(510, 511), match='f'>, <re.Match object; span=(511, 512), match='i'>, <re.Match object; span=(512, 513), match='v'>, <re.Match object; span=(513, 514), match='e'>, <re.Match object; span=(514, 515), match=' '>, <re.Match object; span=(515, 516), match='F'>, <re.Match object; span=(516, 517), match='-'>, <re.Match object; span=(517, 518), match='1'>, <re.Match object; span=(518, 519), match=' '>, <re.Match object; span=(519, 520), match='r'>, <re.Match object; span=(520, 521), match='o'>, <re.Match object; span=(521, 522), match='c'>, <re.Match object; span=(522, 523), match='k'>, <re.Match object; span=(523, 524), match='e'>, <re.Match object; span=(524, 525), match='t'>, <re.Match object; span=(525, 526), match=' '>, <re.Match object; span=(526, 527), match='e'>, <re.Match object; span=(527, 528), match='n'>, <re.Match object; span=(528, 529), match='g'>, <re.Match object; span=(529, 530), match='i'>, <re.Match object; span=(530, 531), match='n'>, <re.Match object; span=(531, 532), match='e'>, <re.Match object; span=(532, 533), match='s'>, <re.Match object; span=(533, 534), match=' '>, <re.Match object; span=(534, 535), match='i'>, <re.Match object; span=(535, 536), match='g'>, <re.Match object; span=(536, 537), match='n'>, <re.Match object; span=(537, 538), match='i'>, <re.Match object; span=(538, 539), match='t'>, <re.Match object; span=(539, 540), match='e'>, <re.Match object; span=(540, 541), match=' '>, <re.Match object; span=(541, 542), match='a'>, <re.Match object; span=(542, 543), match='n'>, <re.Match object; span=(543, 544), match='d'>, <re.Match object; span=(544, 545), match=' '>, <re.Match object; span=(545, 546), match='p'>, <re.Match object; span=(546, 547), match='r'>, <re.Match object; span=(547, 548), match='o'>, <re.Match object; span=(548, 549), match='d'>, <re.Match object; span=(549, 550), match='u'>, <re.Match object; span=(550, 551), match='c'>, <re.Match object; span=(551, 552), match='e'>, <re.Match object; span=(552, 553), match=' '>, <re.Match object; span=(553, 554), match='7'>, <re.Match object; span=(554, 555), match='.'>, <re.Match object; span=(555, 556), match='5'>, <re.Match object; span=(556, 557), match=' '>, <re.Match object; span=(557, 558), match='m'>, <re.Match object; span=(558, 559), match='i'>, <re.Match object; span=(559, 560), match='l'>, <re.Match object; span=(560, 561), match='l'>, <re.Match object; span=(561, 562), match='i'>, <re.Match object; span=(562, 563), match='o'>, <re.Match object; span=(563, 564), match='n'>, <re.Match object; span=(564, 565), match=' '>, <re.Match object; span=(565, 566), match='p'>, <re.Match object; span=(566, 567), match='o'>, <re.Match object; span=(567, 568), match='u'>, <re.Match object; span=(568, 569), match='n'>, <re.Match object; span=(569, 570), match='d'>, <re.Match object; span=(570, 571), match='s'>, <re.Match object; span=(571, 572), match=' '>, <re.Match object; span=(572, 573), match='o'>, <re.Match object; span=(573, 574), match='f'>, <re.Match object; span=(574, 575), match=' '>, <re.Match object; span=(575, 576), match='t'>, <re.Match object; span=(576, 577), match='h'>, <re.Match object; span=(577, 578), match='r'>, <re.Match object; span=(578, 579), match='u'>, <re.Match object; span=(579, 580), match='s'>, <re.Match object; span=(580, 581), match='t'>, <re.Match object; span=(581, 582), match='.'>, <re.Match object; span=(583, 584), match='/'>, <re.Match object; span=(584, 585), match='/'>, <re.Match object; span=(585, 586), match='/'>, <re.Match object; span=(586, 587), match='/'>, <re.Match object; span=(587, 588), match=' '>, <re.Match object; span=(588, 589), match='1'>, <re.Match object; span=(589, 590), match='1'>, <re.Match object; span=(590, 591), match='1'>, <re.Match object; span=(591, 592), match='1'>, <re.Match object; span=(592, 593), match=' '>, <re.Match object; span=(593, 594), match='^'>, <re.Match object; span=(594, 595), match='^'>, <re.Match object; span=(595, 596), match='^'>, <re.Match object; span=(596, 597), match='^'>, <re.Match object; span=(597, 598), match=' '>, <re.Match object; span=(598, 599), match='2'>, <re.Match object; span=(599, 600), match='2'>, <re.Match object; span=(600, 601), match='2'>, <re.Match object; span=(601, 602), match='2'>, <re.Match object; span=(602, 603), match=' '>, <re.Match object; span=(603, 604), match='—'>, <re.Match object; span=(604, 605), match=' '>, <re.Match object; span=(605, 606), match='—'>, <re.Match object; span=(606, 607), match=' '>, <re.Match object; span=(607, 608), match='3'>, <re.Match object; span=(608, 609), match='3'>, <re.Match object; span=(609, 610), match='3'>, <re.Match object; span=(610, 611), match='3'>, <re.Match object; span=(611, 612), match=' '>, <re.Match object; span=(612, 613), match='!'>, <re.Match object; span=(613, 614), match='!'>, <re.Match object; span=(614, 615), match='!'>, <re.Match object; span=(615, 616), match='!'>, <re.Match object; span=(616, 617), match=' '>, <re.Match object; span=(617, 618), match='4'>, <re.Match object; span=(618, 619), match='4'>, <re.Match object; span=(619, 620), match='4'>, <re.Match object; span=(620, 621), match='4'>, <re.Match object; span=(621, 622), match=' '>, <re.Match object; span=(622, 623), match='&'>, <re.Match object; span=(623, 624), match='&'>, <re.Match object; span=(624, 625), match='&'>, <re.Match object; span=(625, 626), match='&'>, <re.Match object; span=(626, 627), match=' '>, <re.Match object; span=(627, 628), match='5'>, <re.Match object; span=(628, 629), match='5'>, <re.Match object; span=(629, 630), match='5'>, <re.Match object; span=(630, 631), match='5'>, <re.Match object; span=(631, 632), match=' '>, <re.Match object; span=(632, 633), match='%'>, <re.Match object; span=(633, 634), match='%'>, <re.Match object; span=(634, 635), match='%'>, <re.Match object; span=(635, 636), match='%'>, <re.Match object; span=(636, 637), match=' '>, <re.Match object; span=(637, 638), match='6'>, <re.Match object; span=(638, 639), match='6'>, <re.Match object; span=(639, 640), match='6'>, <re.Match object; span=(640, 641), match='6'>, <re.Match object; span=(641, 642), match=' '>, <re.Match object; span=(642, 643), match='?'>, <re.Match object; span=(643, 644), match='?'>, <re.Match object; span=(644, 645), match='?'>, <re.Match object; span=(645, 646), match='?'>, <re.Match object; span=(646, 647), match=' '>, <re.Match object; span=(647, 648), match='7'>, <re.Match object; span=(648, 649), match='7'>, <re.Match object; span=(649, 650), match='7'>, <re.Match object; span=(650, 651), match='7'>, <re.Match object; span=(652, 653), match='T'>, <re.Match object; span=(653, 654), match='o'>, <re.Match object; span=(654, 655), match=' '>, <re.Match object; span=(655, 656), match='r'>, <re.Match object; span=(656, 657), match='e'>, <re.Match object; span=(657, 658), match='p'>, <re.Match object; span=(658, 659), match='l'>, <re.Match object; span=(659, 660), match='a'>, <re.Match object; span=(660, 661), match='c'>, <re.Match object; span=(661, 662), match='e'>, <re.Match object; span=(662, 663), match=' '>, <re.Match object; span=(663, 664), match='t'>, <re.Match object; span=(664, 665), match='h'>, <re.Match object; span=(665, 666), match='o'>, <re.Match object; span=(666, 667), match='s'>, <re.Match object; span=(667, 668), match='e'>, <re.Match object; span=(668, 669), match=' '>, <re.Match object; span=(669, 670), match='g'>, <re.Match object; span=(670, 671), match='o'>, <re.Match object; span=(671, 672), match='o'>, <re.Match object; span=(672, 673), match='f'>, <re.Match object; span=(673, 674), match='y'>, <re.Match object; span=(674, 675), match=' '>, <re.Match object; span=(675, 676), match='q'>, <re.Match object; span=(676, 677), match='u'>, <re.Match object; span=(677, 678), match='a'>, <re.Match object; span=(678, 679), match='n'>, <re.Match object; span=(679, 680), match='t'>, <re.Match object; span=(680, 681), match='i'>, <re.Match object; span=(681, 682), match='t'>, <re.Match object; span=(682, 683), match='i'>, <re.Match object; span=(683, 684), match='e'>, <re.Match object; span=(684, 685), match='s'>, <re.Match object; span=(685, 686), match=' '>, <re.Match object; span=(686, 687), match='w'>, <re.Match object; span=(687, 688), match='i'>, <re.Match object; span=(688, 689), match='t'>, <re.Match object; span=(689, 690), match='h'>, <re.Match object; span=(690, 691), match=' '>, <re.Match object; span=(691, 692), match='t'>, <re.Match object; span=(692, 693), match='h'>, <re.Match object; span=(693, 694), match='e'>, <re.Match object; span=(694, 695), match=' '>, <re.Match object; span=(695, 696), match='f'>, <re.Match object; span=(696, 697), match='a'>, <re.Match object; span=(697, 698), match='r'>, <re.Match object; span=(698, 699), match=' '>, <re.Match object; span=(699, 700), match='l'>, <re.Match object; span=(700, 701), match='e'>, <re.Match object; span=(701, 702), match='s'>, <re.Match object; span=(702, 703), match='s'>, <re.Match object; span=(703, 704), match=' '>, <re.Match object; span=(704, 705), match='r'>, <re.Match object; span=(705, 706), match='e'>, <re.Match object; span=(706, 707), match='t'>, <re.Match object; span=(707, 708), match='a'>, <re.Match object; span=(708, 709), match='r'>, <re.Match object; span=(709, 710), match='d'>, <re.Match object; span=(710, 711), match='e'>, <re.Match object; span=(711, 712), match='d'>, <re.Match object; span=(712, 713), match=' '>, <re.Match object; span=(713, 714), match='m'>, <re.Match object; span=(714, 715), match='e'>, <re.Match object; span=(715, 716), match='t'>, <re.Match object; span=(716, 717), match='r'>, <re.Match object; span=(717, 718), match='i'>, <re.Match object; span=(718, 719), match='c'>, <re.Match object; span=(719, 720), match=' '>, <re.Match object; span=(720, 721), match='s'>, <re.Match object; span=(721, 722), match='y'>, <re.Match object; span=(722, 723), match='s'>, <re.Match object; span=(723, 724), match='t'>, <re.Match object; span=(724, 725), match='e'>, <re.Match object; span=(725, 726), match='m'>, <re.Match object; span=(726, 727), match=' '>, <re.Match object; span=(727, 728), match='('>, <re.Match object; span=(728, 729), match='e'>, <re.Match object; span=(729, 730), match='v'>, <re.Match object; span=(730, 731), match='e'>, <re.Match object; span=(731, 732), match='n'>, <re.Match object; span=(732, 733), match=' '>, <re.Match object; span=(733, 734), match='t'>, <re.Match object; span=(734, 735), match='h'>, <re.Match object; span=(735, 736), match='o'>, <re.Match object; span=(736, 737), match='u'>, <re.Match object; span=(737, 738), match='g'>, <re.Match object; span=(738, 739), match='h'>, <re.Match object; span=(739, 740), match=' '>, <re.Match object; span=(740, 741), match='l'>, <re.Match object; span=(741, 742), match='i'>, <re.Match object; span=(742, 743), match='t'>, <re.Match object; span=(743, 744), match='e'>, <re.Match object; span=(744, 745), match='r'>, <re.Match object; span=(745, 746), match='s'>, <re.Match object; span=(746, 747), match=' '>, <re.Match object; span=(747, 748), match='a'>, <re.Match object; span=(748, 749), match='r'>, <re.Match object; span=(749, 750), match='e'>, <re.Match object; span=(750, 751), match=' '>, <re.Match object; span=(751, 752), match='c'>, <re.Match object; span=(752, 753), match='o'>, <re.Match object; span=(753, 754), match='n'>, <re.Match object; span=(754, 755), match='s'>, <re.Match object; span=(755, 756), match='i'>, <re.Match object; span=(756, 757), match='d'>, <re.Match object; span=(757, 758), match='e'>, <re.Match object; span=(758, 759), match='r'>, <re.Match object; span=(759, 760), match='e'>, <re.Match object; span=(760, 761), match='d'>, <re.Match object; span=(761, 762), match=' '>, <re.Match object; span=(762, 763), match='p'>, <re.Match object; span=(763, 764), match='a'>, <re.Match object; span=(764, 765), match='r'>, <re.Match object; span=(765, 766), match='t'>, <re.Match object; span=(766, 767), match=' '>, <re.Match object; span=(767, 768), match='o'>, <re.Match object; span=(768, 769), match='f'>, <re.Match object; span=(769, 770), match=' '>, <re.Match object; span=(770, 771), match='t'>, <re.Match object; span=(771, 772), match='h'>, <re.Match object; span=(772, 773), match='e'>, <re.Match object; span=(773, 774), match=' '>, <re.Match object; span=(774, 775), match='m'>, <re.Match object; span=(775, 776), match='e'>, <re.Match object; span=(776, 777), match='t'>, <re.Match object; span=(777, 778), match='r'>, <re.Match object; span=(778, 779), match='i'>, <re.Match object; span=(779, 780), match='c'>, <re.Match object; span=(780, 781), match=' '>, <re.Match object; span=(781, 782), match='s'>, <re.Match object; span=(782, 783), match='y'>, <re.Match object; span=(783, 784), match='s'>, <re.Match object; span=(784, 785), match='t'>, <re.Match object; span=(785, 786), match='e'>, <re.Match object; span=(786, 787), match='m'>, <re.Match object; span=(787, 788), match=' '>, <re.Match object; span=(788, 789), match='t'>, <re.Match object; span=(789, 790), match='h'>, <re.Match object; span=(790, 791), match='e'>, <re.Match object; span=(791, 792), match='y'>, <re.Match object; span=(792, 793), match=' '>, <re.Match object; span=(793, 794), match='a'>, <re.Match object; span=(794, 795), match='r'>, <re.Match object; span=(795, 796), match='e'>, <re.Match object; span=(796, 797), match=' '>, <re.Match object; span=(797, 798), match='t'>, <re.Match object; span=(798, 799), match='h'>, <re.Match object; span=(799, 800), match='e'>, <re.Match object; span=(800, 801), match=' '>, <re.Match object; span=(801, 802), match='s'>, <re.Match object; span=(802, 803), match='a'>, <re.Match object; span=(803, 804), match='m'>, <re.Match object; span=(804, 805), match='e'>, <re.Match object; span=(805, 806), match=' '>, <re.Match object; span=(806, 807), match='a'>, <re.Match object; span=(807, 808), match='s'>, <re.Match object; span=(808, 809), match=' '>, <re.Match object; span=(809, 810), match='c'>, <re.Match object; span=(810, 811), match='u'>, <re.Match object; span=(811, 812), match='b'>, <re.Match object; span=(812, 813), match='i'>, <re.Match object; span=(813, 814), match='c'>, <re.Match object; span=(814, 815), match=' '>, <re.Match object; span=(815, 816), match='d'>, <re.Match object; span=(816, 817), match='e'>, <re.Match object; span=(817, 818), match='c'>, <re.Match object; span=(818, 819), match='i'>, <re.Match object; span=(819, 820), match='-'>, <re.Match object; span=(820, 821), match='m'>, <re.Match object; span=(821, 822), match='e'>, <re.Match object; span=(822, 823), match='t'>, <re.Match object; span=(823, 824), match='e'>, <re.Match object; span=(824, 825), match='r'>, <re.Match object; span=(825, 826), match='s'>, <re.Match object; span=(826, 827), match=')'>, <re.Match object; span=(827, 828), match=' '>, <re.Match object; span=(828, 829), match='y'>, <re.Match object; span=(829, 830), match='o'>, <re.Match object; span=(830, 831), match='u'>, <re.Match object; span=(831, 832), match=' '>, <re.Match object; span=(832, 833), match='w'>, <re.Match object; span=(833, 834), match='o'>, <re.Match object; span=(834, 835), match='u'>, <re.Match object; span=(835, 836), match='l'>, <re.Match object; span=(836, 837), match='d'>, <re.Match object; span=(837, 838), match=' '>, <re.Match object; span=(838, 839), match='s'>, <re.Match object; span=(839, 840), match='a'>, <re.Match object; span=(840, 841), match='y'>, <re.Match object; span=(841, 842), match=' '>, <re.Match object; span=(842, 843), match='7'>, <re.Match object; span=(843, 844), match='7'>, <re.Match object; span=(844, 845), match='0'>, <re.Match object; span=(845, 846), match=' '>, <re.Match object; span=(846, 847), match='c'>, <re.Match object; span=(847, 848), match='u'>, <re.Match object; span=(848, 849), match='b'>, <re.Match object; span=(849, 850), match='i'>, <re.Match object; span=(850, 851), match='c'>, <re.Match object; span=(851, 852), match=' '>, <re.Match object; span=(852, 853), match='m'>, <re.Match object; span=(853, 854), match='e'>, <re.Match object; span=(854, 855), match='t'>, <re.Match object; span=(855, 856), match='e'>, <re.Match object; span=(856, 857), match='r'>, <re.Match object; span=(857, 858), match='s'>, <re.Match object; span=(858, 859), match=' '>, <re.Match object; span=(859, 860), match='o'>, <re.Match object; span=(860, 861), match='f'>, <re.Match object; span=(861, 862), match=' '>, <re.Match object; span=(862, 863), match='k'>, <re.Match object; span=(863, 864), match='e'>, <re.Match object; span=(864, 865), match='r'>, <re.Match object; span=(865, 866), match='o'>, <re.Match object; span=(866, 867), match='s'>, <re.Match object; span=(867, 868), match='e'>, <re.Match object; span=(868, 869), match='n'>, <re.Match object; span=(869, 870), match='e'>, <re.Match object; span=(870, 871), match=' '>, <re.Match object; span=(871, 872), match='{'>, <re.Match object; span=(872, 873), match='a'>, <re.Match object; span=(873, 874), match='b'>, <re.Match object; span=(874, 875), match='b'>, <re.Match object; span=(875, 876), match='r'>, <re.Match object; span=(876, 877), match='e'>, <re.Match object; span=(877, 878), match='v'>, <re.Match object; span=(878, 879), match='i'>, <re.Match object; span=(879, 880), match='a'>, <re.Match object; span=(880, 881), match='t'>, <re.Match object; span=(881, 882), match='e'>, <re.Match object; span=(882, 883), match='d'>, <re.Match object; span=(883, 884), match=' '>, <re.Match object; span=(884, 885), match='a'>, <re.Match object; span=(885, 886), match='s'>, <re.Match object; span=(886, 887), match=' '>, <re.Match object; span=(887, 888), match='m'>, <re.Match object; span=(888, 889), match='3'>, <re.Match object; span=(889, 890), match='}'>, <re.Match object; span=(890, 891), match=' '>, <re.Match object; span=(891, 892), match='a'>, <re.Match object; span=(892, 893), match='n'>, <re.Match object; span=(893, 894), match='d'>, <re.Match object; span=(894, 895), match=' '>, <re.Match object; span=(895, 896), match='1'>, <re.Match object; span=(896, 897), match=','>, <re.Match object; span=(897, 898), match='2'>, <re.Match object; span=(898, 899), match='0'>, <re.Match object; span=(899, 900), match='4'>, <re.Match object; span=(900, 901), match=' '>, <re.Match object; span=(901, 902), match='m'>, <re.Match object; span=(902, 903), match='3'>, <re.Match object; span=(903, 904), match=' '>, <re.Match object; span=(904, 905), match='o'>, <re.Match object; span=(905, 906), match='f'>, <re.Match object; span=(906, 907), match=' '>, <re.Match object; span=(907, 908), match='l'>, <re.Match object; span=(908, 909), match='i'>, <re.Match object; span=(909, 910), match='q'>, <re.Match object; span=(910, 911), match='u'>, <re.Match object; span=(911, 912), match='i'>, <re.Match object; span=(912, 913), match='d'>, <re.Match object; span=(913, 914), match=' '>, <re.Match object; span=(914, 915), match='O'>, <re.Match object; span=(915, 916), match='2'>, <re.Match object; span=(916, 917), match=' '>, <re.Match object; span=(917, 918), match='['>, <re.Match object; span=(918, 919), match='O'>, <re.Match object; span=(919, 920), match='2'>, <re.Match object; span=(920, 921), match=' '>, <re.Match object; span=(921, 922), match='i'>, <re.Match object; span=(922, 923), match='s'>, <re.Match object; span=(923, 924), match=' '>, <re.Match object; span=(924, 925), match='t'>, <re.Match object; span=(925, 926), match='h'>, <re.Match object; span=(926, 927), match='e'>, <re.Match object; span=(927, 928), match=' '>, <re.Match object; span=(928, 929), match='s'>, <re.Match object; span=(929, 930), match='y'>, <re.Match object; span=(930, 931), match='m'>, <re.Match object; span=(931, 932), match='b'>, <re.Match object; span=(932, 933), match='o'>, <re.Match object; span=(933, 934), match='l'>, <re.Match object; span=(934, 935), match=' '>, <re.Match object; span=(935, 936), match='f'>, <re.Match object; span=(936, 937), match='o'>, <re.Match object; span=(937, 938), match='r'>, <re.Match object; span=(938, 939), match=' '>, <re.Match object; span=(939, 940), match='o'>, <re.Match object; span=(940, 941), match='x'>, <re.Match object; span=(941, 942), match='y'>, <re.Match object; span=(942, 943), match='g'>, <re.Match object; span=(943, 944), match='e'>, <re.Match object; span=(944, 945), match='n'>, <re.Match object; span=(945, 946), match=']'>, <re.Match object; span=(946, 947), match='.'>, <re.Match object; span=(947, 948), match=' '>, <re.Match object; span=(948, 949), match='W'>, <re.Match object; span=(949, 950), match='e'>, <re.Match object; span=(950, 951), match=' '>, <re.Match object; span=(951, 952), match='w'>, <re.Match object; span=(952, 953), match='o'>, <re.Match object; span=(953, 954), match='u'>, <re.Match object; span=(954, 955), match='l'>, <re.Match object; span=(955, 956), match='d'>, <re.Match object; span=(956, 957), match=' '>, <re.Match object; span=(957, 958), match='a'>, <re.Match object; span=(958, 959), match='l'>, <re.Match object; span=(959, 960), match='s'>, <re.Match object; span=(960, 961), match='o'>, <re.Match object; span=(961, 962), match=' '>, <re.Match object; span=(962, 963), match='s'>, <re.Match object; span=(963, 964), match='a'>, <re.Match object; span=(964, 965), match='y'>, <re.Match object; span=(965, 966), match=' '>, <re.Match object; span=(966, 967), match='i'>, <re.Match object; span=(967, 968), match='t'>, <re.Match object; span=(968, 969), match=' '>, <re.Match object; span=(969, 970), match='p'>, <re.Match object; span=(970, 971), match='r'>, <re.Match object; span=(971, 972), match='o'>, <re.Match object; span=(972, 973), match='d'>, <re.Match object; span=(973, 974), match='u'>, <re.Match object; span=(974, 975), match='c'>, <re.Match object; span=(975, 976), match='e'>, <re.Match object; span=(976, 977), match='d'>, <re.Match object; span=(977, 978), match=' '>, <re.Match object; span=(978, 979), match='3'>, <re.Match object; span=(979, 980), match='3'>, <re.Match object; span=(980, 981), match=','>, <re.Match object; span=(981, 982), match='6'>, <re.Match object; span=(982, 983), match='0'>, <re.Match object; span=(983, 984), match='0'>, <re.Match object; span=(984, 985), match=','>, <re.Match object; span=(985, 986), match='0'>, <re.Match object; span=(986, 987), match='0'>, <re.Match object; span=(987, 988), match='0'>, <re.Match object; span=(988, 989), match=' '>, <re.Match object; span=(989, 990), match='n'>, <re.Match object; span=(990, 991), match='e'>, <re.Match object; span=(991, 992), match='w'>, <re.Match object; span=(992, 993), match='t'>, <re.Match object; span=(993, 994), match='o'>, <re.Match object; span=(994, 995), match='n'>, <re.Match object; span=(995, 996), match='s'>, <re.Match object; span=(996, 997), match=' '>, <re.Match object; span=(997, 998), match='o'>, <re.Match object; span=(998, 999), match='f'>, <re.Match object; span=(999, 1000), match=' '>, <re.Match object; span=(1000, 1001), match='f'>, <re.Match object; span=(1001, 1002), match='o'>, <re.Match object; span=(1002, 1003), match='r'>, <re.Match object; span=(1003, 1004), match='c'>, <re.Match object; span=(1004, 1005), match='e'>, <re.Match object; span=(1005, 1006), match=' '>, <re.Match object; span=(1006, 1007), match='<'>, <re.Match object; span=(1007, 1008), match='a'>, <re.Match object; span=(1008, 1009), match='b'>, <re.Match object; span=(1009, 1010), match='b'>, <re.Match object; span=(1010, 1011), match='r'>, <re.Match object; span=(1011, 1012), match='e'>, <re.Match object; span=(1012, 1013), match='v'>, <re.Match object; span=(1013, 1014), match='i'>, <re.Match object; span=(1014, 1015), match='a'>, <re.Match object; span=(1015, 1016), match='t'>, <re.Match object; span=(1016, 1017), match='e'>, <re.Match object; span=(1017, 1018), match='d'>, <re.Match object; span=(1018, 1019), match=' '>, <re.Match object; span=(1019, 1020), match='a'>, <re.Match object; span=(1020, 1021), match='s'>, <re.Match object; span=(1021, 1022), match=' '>, <re.Match object; span=(1022, 1023), match='N'>, <re.Match object; span=(1023, 1024), match='>'>, <re.Match object; span=(1024, 1025), match='.'>, <re.Match object; span=(1026, 1027), match='—'>, <re.Match object; span=(1027, 1028), match=' '>, <re.Match object; span=(1028, 1029), match='—'>, <re.Match object; span=(1029, 1030), match=' '>, <re.Match object; span=(1030, 1031), match='3'>, <re.Match object; span=(1031, 1032), match='3'>, <re.Match object; span=(1032, 1033), match='3'>, <re.Match object; span=(1033, 1034), match='3'>, <re.Match object; span=(1034, 1035), match=' '>, <re.Match object; span=(1035, 1036), match='~'>, <re.Match object; span=(1036, 1037), match='~'>, <re.Match object; span=(1037, 1038), match='~'>, <re.Match object; span=(1038, 1039), match='~'>, <re.Match object; span=(1039, 1040), match=' '>, <re.Match object; span=(1040, 1041), match='9'>, <re.Match object; span=(1041, 1042), match='9'>, <re.Match object; span=(1042, 1043), match='9'>, <re.Match object; span=(1043, 1044), match='9'>, <re.Match object; span=(1044, 1045), match=' '>, <re.Match object; span=(1045, 1046), match=':'>, <re.Match object; span=(1046, 1047), match=':'>, <re.Match object; span=(1047, 1048), match=':'>, <re.Match object; span=(1048, 1049), match=':'>, <re.Match object; span=(1049, 1050), match=' '>, <re.Match object; span=(1050, 1051), match='8'>, <re.Match object; span=(1051, 1052), match='8'>, <re.Match object; span=(1052, 1053), match='8'>, <re.Match object; span=(1053, 1054), match='8'>, <re.Match object; span=(1054, 1055), match=' '>, <re.Match object; span=(1055, 1056), match=';'>, <re.Match object; span=(1056, 1057), match=';'>, <re.Match object; span=(1057, 1058), match=';'>, <re.Match object; span=(1058, 1059), match=';'>, <re.Match object; span=(1059, 1060), match=' '>, <re.Match object; span=(1060, 1061), match='6'>, <re.Match object; span=(1061, 1062), match='7'>, <re.Match object; span=(1062, 1063), match='7'>, <re.Match object; span=(1063, 1064), match='6'>, <re.Match object; span=(1064, 1065), match=' '>, <re.Match object; span=(1065, 1066), match='`'>, <re.Match object; span=(1066, 1067), match='`'>, <re.Match object; span=(1067, 1068), match='`'>, <re.Match object; span=(1068, 1069), match='`'>, <re.Match object; span=(1069, 1070), match=' '>, <re.Match object; span=(1070, 1071), match='2'>, <re.Match object; span=(1071, 1072), match='3'>, <re.Match object; span=(1072, 1073), match='3'>, <re.Match object; span=(1073, 1074), match='2'>, <re.Match object; span=(1074, 1075), match=' '>, <re.Match object; span=(1075, 1076), match='‘'>, <re.Match object; span=(1076, 1077), match='’'>, <re.Match object; span=(1077, 1078), match='’'>, <re.Match object; span=(1078, 1079), match='’'>, <re.Match object; span=(1079, 1080), match=' '>, <re.Match object; span=(1080, 1081), match='3'>, <re.Match object; span=(1081, 1082), match='3'>, <re.Match object; span=(1082, 1083), match='2'>, <re.Match object; span=(1083, 1084), match='3'>, <re.Match object; span=(1084, 1085), match=' '>, <re.Match object; span=(1085, 1086), match='“'>, <re.Match object; span=(1086, 1087), match='”'>, <re.Match object; span=(1087, 1088), match='”'>, <re.Match object; span=(1088, 1089), match='”'>, <re.Match object; span=(1089, 1090), match=' '>, <re.Match object; span=(1090, 1091), match='4'>, <re.Match object; span=(1091, 1092), match='3'>, <re.Match object; span=(1092, 1093), match='4'>, <re.Match object; span=(1093, 1094), match='3'>, <re.Match object; span=(1094, 1095), match=' '>, <re.Match object; span=(1095, 1096), match='@'>, <re.Match object; span=(1096, 1097), match='@'>, <re.Match object; span=(1097, 1098), match='@'>, <re.Match object; span=(1098, 1099), match='@'>, <re.Match object; span=(1100, 1101), match='T'>, <re.Match object; span=(1101, 1102), match='o'>, <re.Match object; span=(1102, 1103), match=' '>, <re.Match object; span=(1103, 1104), match='a'>, <re.Match object; span=(1104, 1105), match='d'>, <re.Match object; span=(1105, 1106), match='d'>, <re.Match object; span=(1106, 1107), match=' '>, <re.Match object; span=(1107, 1108), match='s'>, <re.Match object; span=(1108, 1109), match='c'>, <re.Match object; span=(1109, 1110), match='i'>, <re.Match object; span=(1110, 1111), match='e'>, <re.Match object; span=(1111, 1112), match='n'>, <re.Match object; span=(1112, 1113), match='t'>, <re.Match object; span=(1113, 1114), match='i'>, <re.Match object; span=(1114, 1115), match='f'>, <re.Match object; span=(1115, 1116), match='i'>, <re.Match object; span=(1116, 1117), match='c'>, <re.Match object; span=(1117, 1118), match=' '>, <re.Match object; span=(1118, 1119), match='n'>, <re.Match object; span=(1119, 1120), match='o'>, <re.Match object; span=(1120, 1121), match='t'>, <re.Match object; span=(1121, 1122), match='a'>, <re.Match object; span=(1122, 1123), match='t'>, <re.Match object; span=(1123, 1124), match='i'>, <re.Match object; span=(1124, 1125), match='o'>, <re.Match object; span=(1125, 1126), match='n'>, <re.Match object; span=(1126, 1127), match=' '>, <re.Match object; span=(1127, 1128), match='{'>, <re.Match object; span=(1128, 1129), match='a'>, <re.Match object; span=(1129, 1130), match=' '>, <re.Match object; span=(1130, 1131), match='w'>, <re.Match object; span=(1131, 1132), match='a'>, <re.Match object; span=(1132, 1133), match='y'>, <re.Match object; span=(1133, 1134), match=' '>, <re.Match object; span=(1134, 1135), match='o'>, <re.Match object; span=(1135, 1136), match='f'>, <re.Match object; span=(1136, 1137), match=' '>, <re.Match object; span=(1137, 1138), match='w'>, <re.Match object; span=(1138, 1139), match='r'>, <re.Match object; span=(1139, 1140), match='i'>, <re.Match object; span=(1140, 1141), match='t'>, <re.Match object; span=(1141, 1142), match='i'>, <re.Match object; span=(1142, 1143), match='n'>, <re.Match object; span=(1143, 1144), match='g'>, <re.Match object; span=(1144, 1145), match=' '>, <re.Match object; span=(1145, 1146), match='n'>, <re.Match object; span=(1146, 1147), match='u'>, <re.Match object; span=(1147, 1148), match='m'>, <re.Match object; span=(1148, 1149), match='b'>, <re.Match object; span=(1149, 1150), match='e'>, <re.Match object; span=(1150, 1151), match='r'>, <re.Match object; span=(1151, 1152), match='s'>, <re.Match object; span=(1152, 1153), match=' '>, <re.Match object; span=(1153, 1154), match='t'>, <re.Match object; span=(1154, 1155), match='h'>, <re.Match object; span=(1155, 1156), match='a'>, <re.Match object; span=(1156, 1157), match='t'>, <re.Match object; span=(1157, 1158), match=' '>, <re.Match object; span=(1158, 1159), match='a'>, <re.Match object; span=(1159, 1160), match='l'>, <re.Match object; span=(1160, 1161), match='l'>, <re.Match object; span=(1161, 1162), match='o'>, <re.Match object; span=(1162, 1163), match='w'>, <re.Match object; span=(1163, 1164), match='s'>, <re.Match object; span=(1164, 1165), match=' '>, <re.Match object; span=(1165, 1166), match='y'>, <re.Match object; span=(1166, 1167), match='o'>, <re.Match object; span=(1167, 1168), match='u'>, <re.Match object; span=(1168, 1169), match=' '>, <re.Match object; span=(1169, 1170), match='t'>, <re.Match object; span=(1170, 1171), match='o'>, <re.Match object; span=(1171, 1172), match=' '>, <re.Match object; span=(1172, 1173), match='w'>, <re.Match object; span=(1173, 1174), match='r'>, <re.Match object; span=(1174, 1175), match='i'>, <re.Match object; span=(1175, 1176), match='t'>, <re.Match object; span=(1176, 1177), match='e'>, <re.Match object; span=(1177, 1178), match=' '>, <re.Match object; span=(1178, 1179), match='o'>, <re.Match object; span=(1179, 1180), match='n'>, <re.Match object; span=(1180, 1181), match='l'>, <re.Match object; span=(1181, 1182), match='y'>, <re.Match object; span=(1182, 1183), match=' '>, <re.Match object; span=(1183, 1184), match='a'>, <re.Match object; span=(1184, 1185), match='s'>, <re.Match object; span=(1185, 1186), match=' '>, <re.Match object; span=(1186, 1187), match='m'>, <re.Match object; span=(1187, 1188), match='a'>, <re.Match object; span=(1188, 1189), match='n'>, <re.Match object; span=(1189, 1190), match='y'>, <re.Match object; span=(1190, 1191), match=' '>, <re.Match object; span=(1191, 1192), match='d'>, <re.Match object; span=(1192, 1193), match='i'>, <re.Match object; span=(1193, 1194), match='g'>, <re.Match object; span=(1194, 1195), match='i'>, <re.Match object; span=(1195, 1196), match='t'>, <re.Match object; span=(1196, 1197), match='s'>, <re.Match object; span=(1197, 1198), match=' '>, <re.Match object; span=(1198, 1199), match='`'>, <re.Match object; span=(1199, 1200), match='o'>, <re.Match object; span=(1200, 1201), match='f'>, <re.Match object; span=(1201, 1202), match=' '>, <re.Match object; span=(1202, 1203), match='s'>, <re.Match object; span=(1203, 1204), match='p'>, <re.Match object; span=(1204, 1205), match='e'>, <re.Match object; span=(1205, 1206), match='c'>, <re.Match object; span=(1206, 1207), match='i'>, <re.Match object; span=(1207, 1208), match='f'>, <re.Match object; span=(1208, 1209), match='i'>, <re.Match object; span=(1209, 1210), match='c'>, <re.Match object; span=(1210, 1211), match='i'>, <re.Match object; span=(1211, 1212), match='t'>, <re.Match object; span=(1212, 1213), match='y'>, <re.Match object; span=(1213, 1214), match='`'>, <re.Match object; span=(1214, 1215), match=' '>, <re.Match object; span=(1215, 1216), match='a'>, <re.Match object; span=(1216, 1217), match='s'>, <re.Match object; span=(1217, 1218), match=' '>, <re.Match object; span=(1218, 1219), match='y'>, <re.Match object; span=(1219, 1220), match='o'>, <re.Match object; span=(1220, 1221), match='u'>, <re.Match object; span=(1221, 1222), match=' '>, <re.Match object; span=(1222, 1223), match='w'>, <re.Match object; span=(1223, 1224), match='o'>, <re.Match object; span=(1224, 1225), match='u'>, <re.Match object; span=(1225, 1226), match='l'>, <re.Match object; span=(1226, 1227), match='d'>, <re.Match object; span=(1227, 1228), match=' '>, <re.Match object; span=(1228, 1229), match='l'>, <re.Match object; span=(1229, 1230), match='i'>, <re.Match object; span=(1230, 1231), match='k'>, <re.Match object; span=(1231, 1232), match='e'>, <re.Match object; span=(1232, 1233), match='}'>, <re.Match object; span=(1233, 1234), match=' '>, <re.Match object; span=(1234, 1235), match='y'>, <re.Match object; span=(1235, 1236), match='o'>, <re.Match object; span=(1236, 1237), match='u'>, <re.Match object; span=(1237, 1238), match=' '>, <re.Match object; span=(1238, 1239), match='c'>, <re.Match object; span=(1239, 1240), match='a'>, <re.Match object; span=(1240, 1241), match='n'>, <re.Match object; span=(1241, 1242), match=' '>, <re.Match object; span=(1242, 1243), match='w'>, <re.Match object; span=(1243, 1244), match='r'>, <re.Match object; span=(1244, 1245), match='i'>, <re.Match object; span=(1245, 1246), match='t'>, <re.Match object; span=(1246, 1247), match='e'>, <re.Match object; span=(1247, 1248), match=' '>, <re.Match object; span=(1248, 1249), match='7'>, <re.Match object; span=(1249, 1250), match='.'>, <re.Match object; span=(1250, 1251), match='7'>, <re.Match object; span=(1251, 1252), match=' '>, <re.Match object; span=(1252, 1253), match='*'>, <re.Match object; span=(1253, 1254), match=' '>, <re.Match object; span=(1254, 1255), match='1'>, <re.Match object; span=(1255, 1256), match='0'>, <re.Match object; span=(1256, 1257), match=' '>, <re.Match object; span=(1257, 1258), match='^'>, <re.Match object; span=(1258, 1259), match=' '>, <re.Match object; span=(1259, 1260), match='2'>, <re.Match object; span=(1260, 1261), match=' '>, <re.Match object; span=(1261, 1262), match='m'>, <re.Match object; span=(1262, 1263), match='3'>, <re.Match object; span=(1263, 1264), match=' '>, <re.Match object; span=(1264, 1265), match='o'>, <re.Match object; span=(1265, 1266), match='f'>, <re.Match object; span=(1266, 1267), match=' '>, <re.Match object; span=(1267, 1268), match='k'>, <re.Match object; span=(1268, 1269), match='e'>, <re.Match object; span=(1269, 1270), match='r'>, <re.Match object; span=(1270, 1271), match='o'>, <re.Match object; span=(1271, 1272), match='s'>, <re.Match object; span=(1272, 1273), match='e'>, <re.Match object; span=(1273, 1274), match='n'>, <re.Match object; span=(1274, 1275), match='e'>, <re.Match object; span=(1275, 1276), match=' '>, <re.Match object; span=(1276, 1277), match='1'>, <re.Match object; span=(1277, 1278), match='.'>, <re.Match object; span=(1278, 1279), match='2'>, <re.Match object; span=(1279, 1280), match='0'>, <re.Match object; span=(1280, 1281), match='4'>, <re.Match object; span=(1281, 1282), match=' '>, <re.Match object; span=(1282, 1283), match='*'>, <re.Match object; span=(1283, 1284), match=' '>, <re.Match object; span=(1284, 1285), match='1'>, <re.Match object; span=(1285, 1286), match='0'>, <re.Match object; span=(1286, 1287), match=' '>, <re.Match object; span=(1287, 1288), match='^'>, <re.Match object; span=(1288, 1289), match=' '>, <re.Match object; span=(1289, 1290), match='3'>, <re.Match object; span=(1290, 1291), match=' '>, <re.Match object; span=(1291, 1292), match='m'>, <re.Match object; span=(1292, 1293), match='3'>, <re.Match object; span=(1293, 1294), match=' '>, <re.Match object; span=(1294, 1295), match='o'>, <re.Match object; span=(1295, 1296), match='f'>, <re.Match object; span=(1296, 1297), match=' '>, <re.Match object; span=(1297, 1298), match='O'>, <re.Match object; span=(1298, 1299), match='2'>, <re.Match object; span=(1299, 1300), match=' '>, <re.Match object; span=(1300, 1301), match='a'>, <re.Match object; span=(1301, 1302), match='n'>, <re.Match object; span=(1302, 1303), match='d'>, <re.Match object; span=(1303, 1304), match=' '>, <re.Match object; span=(1304, 1305), match='3'>, <re.Match object; span=(1305, 1306), match='.'>, <re.Match object; span=(1306, 1307), match='3'>, <re.Match object; span=(1307, 1308), match=' '>, <re.Match object; span=(1308, 1309), match='*'>, <re.Match object; span=(1309, 1310), match=' '>, <re.Match object; span=(1310, 1311), match='1'>, <re.Match object; span=(1311, 1312), match='0'>, <re.Match object; span=(1312, 1313), match=' '>, <re.Match object; span=(1313, 1314), match='^'>, <re.Match object; span=(1314, 1315), match=' '>, <re.Match object; span=(1315, 1316), match='7'>, <re.Match object; span=(1316, 1317), match=' '>, <re.Match object; span=(1317, 1318), match='n'>, <re.Match object; span=(1318, 1319), match='e'>, <re.Match object; span=(1319, 1320), match='w'>, <re.Match object; span=(1320, 1321), match='t'>, <re.Match object; span=(1321, 1322), match='o'>, <re.Match object; span=(1322, 1323), match='n'>, <re.Match object; span=(1323, 1324), match='s'>, <re.Match object; span=(1324, 1325), match='.'>, <re.Match object; span=(1326, 1327), match='<'>, <re.Match object; span=(1327, 1328), match='<'>, <re.Match object; span=(1328, 1329), match='<'>, <re.Match object; span=(1329, 1330), match='<'>, <re.Match object; span=(1330, 1331), match=' '>, <re.Match object; span=(1331, 1332), match='>'>, <re.Match object; span=(1332, 1333), match='>'>, <re.Match object; span=(1333, 1334), match='>'>, <re.Match object; span=(1334, 1335), match='>'>, <re.Match object; span=(1335, 1336), match=' '>, <re.Match object; span=(1336, 1337), match='{'>, <re.Match object; span=(1337, 1338), match='{'>, <re.Match object; span=(1338, 1339), match='{'>, <re.Match object; span=(1339, 1340), match='{'>, <re.Match object; span=(1340, 1341), match=' '>, <re.Match object; span=(1341, 1342), match='}'>, <re.Match object; span=(1342, 1343), match='}'>, <re.Match object; span=(1343, 1344), match='}'>, <re.Match object; span=(1344, 1345), match='}'>, <re.Match object; span=(1345, 1346), match=' '>, <re.Match object; span=(1346, 1347), match='('>, <re.Match object; span=(1347, 1348), match='('>, <re.Match object; span=(1348, 1349), match='('>, <re.Match object; span=(1349, 1350), match='('>, <re.Match object; span=(1350, 1351), match=' '>, <re.Match object; span=(1351, 1352), match=')'>, <re.Match object; span=(1352, 1353), match=')'>, <re.Match object; span=(1353, 1354), match=')'>, <re.Match object; span=(1354, 1355), match=')'>, <re.Match object; span=(1355, 1356), match=' '>, <re.Match object; span=(1356, 1357), match='['>, <re.Match object; span=(1357, 1358), match='['>, <re.Match object; span=(1358, 1359), match='['>, <re.Match object; span=(1359, 1360), match='['>, <re.Match object; span=(1360, 1361), match=' '>, <re.Match object; span=(1361, 1362), match=']'>, <re.Match object; span=(1362, 1363), match=']'>, <re.Match object; span=(1363, 1364), match=']'>, <re.Match object; span=(1364, 1365), match=']'>, <re.Match object; span=(1366, 1367), match='A'>, <re.Match object; span=(1367, 1368), match='n'>, <re.Match object; span=(1368, 1369), match='o'>, <re.Match object; span=(1369, 1370), match='t'>, <re.Match object; span=(1370, 1371), match='h'>, <re.Match object; span=(1371, 1372), match='e'>, <re.Match object; span=(1372, 1373), match='r'>, <re.Match object; span=(1373, 1374), match=' '>, <re.Match object; span=(1374, 1375), match='w'>, <re.Match object; span=(1375, 1376), match='a'>, <re.Match object; span=(1376, 1377), match='y'>, <re.Match object; span=(1377, 1378), match=' '>, <re.Match object; span=(1378, 1379), match='t'>, <re.Match object; span=(1379, 1380), match='o'>, <re.Match object; span=(1380, 1381), match=' '>, <re.Match object; span=(1381, 1382), match='w'>, <re.Match object; span=(1382, 1383), match='r'>, <re.Match object; span=(1383, 1384), match='i'>, <re.Match object; span=(1384, 1385), match='t'>, <re.Match object; span=(1385, 1386), match='e'>, <re.Match object; span=(1386, 1387), match=' '>, <re.Match object; span=(1387, 1388), match='s'>, <re.Match object; span=(1388, 1389), match='c'>, <re.Match object; span=(1389, 1390), match='i'>, <re.Match object; span=(1390, 1391), match='e'>, <re.Match object; span=(1391, 1392), match='n'>, <re.Match object; span=(1392, 1393), match='t'>, <re.Match object; span=(1393, 1394), match='i'>, <re.Match object; span=(1394, 1395), match='f'>, <re.Match object; span=(1395, 1396), match='i'>, <re.Match object; span=(1396, 1397), match='c'>, <re.Match object; span=(1397, 1398), match=' '>, <re.Match object; span=(1398, 1399), match='n'>, <re.Match object; span=(1399, 1400), match='o'>, <re.Match object; span=(1400, 1401), match='t'>, <re.Match object; span=(1401, 1402), match='a'>, <re.Match object; span=(1402, 1403), match='t'>, <re.Match object; span=(1403, 1404), match='i'>, <re.Match object; span=(1404, 1405), match='o'>, <re.Match object; span=(1405, 1406), match='n'>, <re.Match object; span=(1406, 1407), match=' '>, <re.Match object; span=(1407, 1408), match='i'>, <re.Match object; span=(1408, 1409), match='s'>, <re.Match object; span=(1409, 1410), match=' '>, <re.Match object; span=(1410, 1411), match='t'>, <re.Match object; span=(1411, 1412), match='o'>, <re.Match object; span=(1412, 1413), match=' '>, <re.Match object; span=(1413, 1414), match='r'>, <re.Match object; span=(1414, 1415), match='e'>, <re.Match object; span=(1415, 1416), match='p'>, <re.Match object; span=(1416, 1417), match='l'>, <re.Match object; span=(1417, 1418), match='a'>, <re.Match object; span=(1418, 1419), match='c'>, <re.Match object; span=(1419, 1420), match='e'>, <re.Match object; span=(1420, 1421), match=' '>, <re.Match object; span=(1421, 1422), match='t'>, <re.Match object; span=(1422, 1423), match='h'>, <re.Match object; span=(1423, 1424), match='e'>, <re.Match object; span=(1424, 1425), match=' '>, <re.Match object; span=(1425, 1426), match='“'>, <re.Match object; span=(1426, 1427), match='*'>, <re.Match object; span=(1427, 1428), match=' '>, <re.Match object; span=(1428, 1429), match='1'>, <re.Match object; span=(1429, 1430), match='0'>, <re.Match object; span=(1430, 1431), match=' '>, <re.Match object; span=(1431, 1432), match='^'>, <re.Match object; span=(1432, 1433), match='”'>, <re.Match object; span=(1433, 1434), match=' '>, <re.Match object; span=(1434, 1435), match='w'>, <re.Match object; span=(1435, 1436), match='i'>, <re.Match object; span=(1436, 1437), match='t'>, <re.Match object; span=(1437, 1438), match='h'>, <re.Match object; span=(1438, 1439), match=' '>, <re.Match object; span=(1439, 1440), match='‘'>, <re.Match object; span=(1440, 1441), match='E'>, <re.Match object; span=(1441, 1442), match='’'>, <re.Match object; span=(1442, 1443), match=' '>, <re.Match object; span=(1443, 1444), match='-'>, <re.Match object; span=(1444, 1445), match='/'>, <re.Match object; span=(1445, 1446), match='c'>, <re.Match object; span=(1446, 1447), match='a'>, <re.Match object; span=(1447, 1448), match='p'>, <re.Match object; span=(1448, 1449), match='i'>, <re.Match object; span=(1449, 1450), match='t'>, <re.Match object; span=(1450, 1451), match='a'>, <re.Match object; span=(1451, 1452), match='l'>, <re.Match object; span=(1452, 1453), match=' '>, <re.Match object; span=(1453, 1454), match='e'>, <re.Match object; span=(1454, 1455), match='\\\\'>, <re.Match object; span=(1455, 1456), match='-'>, <re.Match object; span=(1456, 1457), match='.'>, <re.Match object; span=(1457, 1458), match=' '>, <re.Match object; span=(1458, 1459), match='S'>, <re.Match object; span=(1459, 1460), match='o'>, <re.Match object; span=(1460, 1461), match=' '>, <re.Match object; span=(1461, 1462), match='o'>, <re.Match object; span=(1462, 1463), match='u'>, <re.Match object; span=(1463, 1464), match='r'>, <re.Match object; span=(1464, 1465), match=' '>, <re.Match object; span=(1465, 1466), match='n'>, <re.Match object; span=(1466, 1467), match='u'>, <re.Match object; span=(1467, 1468), match='m'>, <re.Match object; span=(1468, 1469), match='b'>, <re.Match object; span=(1469, 1470), match='e'>, <re.Match object; span=(1470, 1471), match='r'>, <re.Match object; span=(1471, 1472), match='s'>, <re.Match object; span=(1472, 1473), match=' '>, <re.Match object; span=(1473, 1474), match='w'>, <re.Match object; span=(1474, 1475), match='o'>, <re.Match object; span=(1475, 1476), match='u'>, <re.Match object; span=(1476, 1477), match='l'>, <re.Match object; span=(1477, 1478), match='d'>, <re.Match object; span=(1478, 1479), match=' '>, <re.Match object; span=(1479, 1480), match='l'>, <re.Match object; span=(1480, 1481), match='o'>, <re.Match object; span=(1481, 1482), match='o'>, <re.Match object; span=(1482, 1483), match='k'>, <re.Match object; span=(1483, 1484), match=' '>, <re.Match object; span=(1484, 1485), match='l'>, <re.Match object; span=(1485, 1486), match='i'>, <re.Match object; span=(1486, 1487), match='k'>, <re.Match object; span=(1487, 1488), match='e'>, <re.Match object; span=(1488, 1489), match=':'>, <re.Match object; span=(1489, 1490), match='s'>, <re.Match object; span=(1491, 1492), match='#'>, <re.Match object; span=(1492, 1493), match='#'>, <re.Match object; span=(1493, 1494), match='#'>, <re.Match object; span=(1494, 1495), match='#'>, <re.Match object; span=(1495, 1496), match=' '>, <re.Match object; span=(1496, 1497), match='7'>, <re.Match object; span=(1497, 1498), match='.'>, <re.Match object; span=(1498, 1499), match='7'>, <re.Match object; span=(1499, 1500), match=' '>, <re.Match object; span=(1500, 1501), match='E'>, <re.Match object; span=(1501, 1502), match=' '>, <re.Match object; span=(1502, 1503), match='2'>, <re.Match object; span=(1504, 1505), match='='>, <re.Match object; span=(1505, 1506), match='='>, <re.Match object; span=(1506, 1507), match='='>, <re.Match object; span=(1507, 1508), match='='>, <re.Match object; span=(1508, 1509), match=' '>, <re.Match object; span=(1509, 1510), match='1'>, <re.Match object; span=(1510, 1511), match='.'>, <re.Match object; span=(1511, 1512), match='2'>, <re.Match object; span=(1512, 1513), match=' '>, <re.Match object; span=(1513, 1514), match='E'>, <re.Match object; span=(1514, 1515), match=' '>, <re.Match object; span=(1515, 1516), match='3'>, <re.Match object; span=(1517, 1518), match='%'>, <re.Match object; span=(1518, 1519), match='%'>, <re.Match object; span=(1519, 1520), match='%'>, <re.Match object; span=(1520, 1521), match='%'>, <re.Match object; span=(1521, 1522), match=' '>, <re.Match object; span=(1522, 1523), match='3'>, <re.Match object; span=(1523, 1524), match='.'>, <re.Match object; span=(1524, 1525), match='3'>, <re.Match object; span=(1525, 1526), match=' '>, <re.Match object; span=(1526, 1527), match='E'>, <re.Match object; span=(1527, 1528), match=' '>, <re.Match object; span=(1528, 1529), match='7'>, <re.Match object; span=(1530, 1531), match='?'>, <re.Match object; span=(1531, 1532), match='?'>, <re.Match object; span=(1532, 1533), match='?'>, <re.Match object; span=(1533, 1534), match='?'>, <re.Match object; span=(1534, 1535), match=' '>, <re.Match object; span=(1535, 1536), match='%'>, <re.Match object; span=(1536, 1537), match='%'>, <re.Match object; span=(1537, 1538), match='%'>, <re.Match object; span=(1538, 1539), match='%'>, <re.Match object; span=(1539, 1540), match=' '>, <re.Match object; span=(1540, 1541), match='&'>, <re.Match object; span=(1541, 1542), match='&'>, <re.Match object; span=(1542, 1543), match='&'>, <re.Match object; span=(1543, 1544), match='&'>, <re.Match object; span=(1544, 1545), match=' '>, <re.Match object; span=(1545, 1546), match='!'>, <re.Match object; span=(1546, 1547), match='!'>, <re.Match object; span=(1547, 1548), match='!'>, <re.Match object; span=(1548, 1549), match='!'>, <re.Match object; span=(1549, 1550), match=' '>, <re.Match object; span=(1550, 1551), match='^'>, <re.Match object; span=(1551, 1552), match='^'>, <re.Match object; span=(1552, 1553), match='^'>, <re.Match object; span=(1553, 1554), match='^'>, <re.Match object; span=(1554, 1555), match=' '>, <re.Match object; span=(1555, 1556), match='—'>, <re.Match object; span=(1556, 1557), match=' '>, <re.Match object; span=(1557, 1558), match='—'>, <re.Match object; span=(1558, 1559), match=' '>, <re.Match object; span=(1559, 1560), match='*'>, <re.Match object; span=(1560, 1561), match='*'>, <re.Match object; span=(1561, 1562), match='*'>, <re.Match object; span=(1562, 1563), match='*'>, <re.Match object; span=(1563, 1564), match=' '>, <re.Match object; span=(1564, 1565), match='+'>, <re.Match object; span=(1565, 1566), match='+'>, <re.Match object; span=(1566, 1567), match='+'>, <re.Match object; span=(1567, 1568), match='+'>, <re.Match object; span=(1568, 1569), match=' '>, <re.Match object; span=(1569, 1570), match='='>, <re.Match object; span=(1570, 1571), match='='>, <re.Match object; span=(1571, 1572), match='='>, <re.Match object; span=(1572, 1573), match='='>]\n"
     ]
    }
   ],
   "source": [
    "#lets try for fullstop\n",
    "fullstop=re.compile(r'.')\n",
    "print(list(fullstop.finditer(paragraph)))"
   ]
  },
  {
   "cell_type": "code",
   "execution_count": null,
   "metadata": {},
   "outputs": [],
   "source": [
    "#here we see it matches everything with full stop and not the actual '.' so for that we need to specify what we really mean\n",
    "#because fullstop is a period"
   ]
  },
  {
   "cell_type": "code",
   "execution_count": 17,
   "metadata": {},
   "outputs": [
    {
     "name": "stdout",
     "output_type": "stream",
     "text": [
      "[<re.Match object; span=(121, 122), match='.'>, <re.Match object; span=(137, 138), match='.'>, <re.Match object; span=(292, 293), match='.'>, <re.Match object; span=(427, 428), match='.'>, <re.Match object; span=(484, 485), match='.'>, <re.Match object; span=(554, 555), match='.'>, <re.Match object; span=(581, 582), match='.'>, <re.Match object; span=(946, 947), match='.'>, <re.Match object; span=(1024, 1025), match='.'>, <re.Match object; span=(1249, 1250), match='.'>, <re.Match object; span=(1277, 1278), match='.'>, <re.Match object; span=(1305, 1306), match='.'>, <re.Match object; span=(1324, 1325), match='.'>, <re.Match object; span=(1456, 1457), match='.'>, <re.Match object; span=(1497, 1498), match='.'>, <re.Match object; span=(1510, 1511), match='.'>, <re.Match object; span=(1523, 1524), match='.'>]\n",
      "17\n"
     ]
    }
   ],
   "source": [
    "fullstop=re.compile(r'\\.')\n",
    "print(list(fullstop.finditer(paragraph)))\n",
    "print(len(list(fullstop.finditer(paragraph)))) #has been used 17 times in the para"
   ]
  },
  {
   "cell_type": "markdown",
   "metadata": {},
   "source": [
    "### Conventions"
   ]
  },
  {
   "cell_type": "code",
   "execution_count": null,
   "metadata": {},
   "outputs": [],
   "source": [
    "#conventions\n",
    "'''\n",
    ".       - Any Character Except New Line\n",
    "\\d      - Digit (0-9)\n",
    "\\D      - Not a Digit (0-9)\n",
    "\\w      - Word Character (a-z, A-Z, 0-9, _)\n",
    "\\W      - Not a Word Character\n",
    "\\s      - Whitespace (space, tab, newline)\n",
    "\\S      - Not Whitespace (space, tab, newline)\n",
    "\n",
    "\\b      - Word Boundary\n",
    "\\B      - Not a Word Boundary\n",
    "^       - Beginning of a String\n",
    "$       - End of a String\n",
    "\n",
    "[]      - Matches Characters in brackets\n",
    "[^ ]    - Matches Characters NOT in brackets\n",
    "|       - Either Or\n",
    "( )     - Group\n",
    "\n",
    "Quantifiers:\n",
    "*       - 0 or More\n",
    "+       - 1 or More\n",
    "?       - 0 or One\n",
    "{3}     - Exact Number\n",
    "{3,4}   - Range of Numbers (Minimum, Maximum)\n",
    "\n",
    "\n",
    "#### Sample Regexs ####\n",
    "\n",
    "[a-zA-Z0-9_.+-]+@[a-zA-Z0-9-]+\\.[a-zA-Z0-9-.]+\n",
    "'''"
   ]
  },
  {
   "cell_type": "markdown",
   "metadata": {},
   "source": [
    "#### Demonstrations"
   ]
  },
  {
   "cell_type": "code",
   "execution_count": 18,
   "metadata": {},
   "outputs": [
    {
     "name": "stdout",
     "output_type": "stream",
     "text": [
      "[<re.Match object; span=(148, 149), match='2'>, <re.Match object; span=(149, 150), match='1'>, <re.Match object; span=(150, 151), match='9'>, <re.Match object; span=(151, 152), match='2'>, <re.Match object; span=(152, 153), match='4'>, <re.Match object; span=(202, 203), match='4'>, <re.Match object; span=(205, 206), match='0'>, <re.Match object; span=(206, 207), match='4'>, <re.Match object; span=(207, 208), match='8'>, <re.Match object; span=(208, 209), match='3'>, <re.Match object; span=(209, 210), match='8'>, <re.Match object; span=(210, 211), match='2'>, <re.Match object; span=(211, 212), match='3'>, <re.Match object; span=(212, 213), match='1'>, <re.Match object; span=(298, 299), match='1'>, <re.Match object; span=(299, 300), match='1'>, <re.Match object; span=(300, 301), match='2'>, <re.Match object; span=(301, 302), match='2'>, <re.Match object; span=(302, 303), match='3'>, <re.Match object; span=(303, 304), match='3'>, <re.Match object; span=(304, 305), match='4'>, <re.Match object; span=(305, 306), match='4'>, <re.Match object; span=(306, 307), match='5'>, <re.Match object; span=(307, 308), match='5'>, <re.Match object; span=(308, 309), match='6'>, <re.Match object; span=(309, 310), match='6'>, <re.Match object; span=(310, 311), match='7'>, <re.Match object; span=(311, 312), match='7'>, <re.Match object; span=(312, 313), match='8'>, <re.Match object; span=(313, 314), match='8'>, <re.Match object; span=(314, 315), match='9'>, <re.Match object; span=(315, 316), match='9'>, <re.Match object; span=(355, 356), match='2'>, <re.Match object; span=(356, 357), match='0'>, <re.Match object; span=(357, 358), match='3'>, <re.Match object; span=(359, 360), match='4'>, <re.Match object; span=(360, 361), match='0'>, <re.Match object; span=(361, 362), match='0'>, <re.Match object; span=(372, 373), match='7'>, <re.Match object; span=(373, 374), match='7'>, <re.Match object; span=(374, 375), match='0'>, <re.Match object; span=(376, 377), match='0'>, <re.Match object; span=(377, 378), match='0'>, <re.Match object; span=(378, 379), match='0'>, <re.Match object; span=(409, 410), match='3'>, <re.Match object; span=(410, 411), match='1'>, <re.Match object; span=(411, 412), match='8'>, <re.Match object; span=(413, 414), match='0'>, <re.Match object; span=(414, 415), match='0'>, <re.Match object; span=(415, 416), match='0'>, <re.Match object; span=(426, 427), match='1'>, <re.Match object; span=(428, 429), match='2'>, <re.Match object; span=(517, 518), match='1'>, <re.Match object; span=(553, 554), match='7'>, <re.Match object; span=(555, 556), match='5'>, <re.Match object; span=(588, 589), match='1'>, <re.Match object; span=(589, 590), match='1'>, <re.Match object; span=(590, 591), match='1'>, <re.Match object; span=(591, 592), match='1'>, <re.Match object; span=(598, 599), match='2'>, <re.Match object; span=(599, 600), match='2'>, <re.Match object; span=(600, 601), match='2'>, <re.Match object; span=(601, 602), match='2'>, <re.Match object; span=(607, 608), match='3'>, <re.Match object; span=(608, 609), match='3'>, <re.Match object; span=(609, 610), match='3'>, <re.Match object; span=(610, 611), match='3'>, <re.Match object; span=(617, 618), match='4'>, <re.Match object; span=(618, 619), match='4'>, <re.Match object; span=(619, 620), match='4'>, <re.Match object; span=(620, 621), match='4'>, <re.Match object; span=(627, 628), match='5'>, <re.Match object; span=(628, 629), match='5'>, <re.Match object; span=(629, 630), match='5'>, <re.Match object; span=(630, 631), match='5'>, <re.Match object; span=(637, 638), match='6'>, <re.Match object; span=(638, 639), match='6'>, <re.Match object; span=(639, 640), match='6'>, <re.Match object; span=(640, 641), match='6'>, <re.Match object; span=(647, 648), match='7'>, <re.Match object; span=(648, 649), match='7'>, <re.Match object; span=(649, 650), match='7'>, <re.Match object; span=(650, 651), match='7'>, <re.Match object; span=(842, 843), match='7'>, <re.Match object; span=(843, 844), match='7'>, <re.Match object; span=(844, 845), match='0'>, <re.Match object; span=(888, 889), match='3'>, <re.Match object; span=(895, 896), match='1'>, <re.Match object; span=(897, 898), match='2'>, <re.Match object; span=(898, 899), match='0'>, <re.Match object; span=(899, 900), match='4'>, <re.Match object; span=(902, 903), match='3'>, <re.Match object; span=(915, 916), match='2'>, <re.Match object; span=(919, 920), match='2'>, <re.Match object; span=(978, 979), match='3'>, <re.Match object; span=(979, 980), match='3'>, <re.Match object; span=(981, 982), match='6'>, <re.Match object; span=(982, 983), match='0'>, <re.Match object; span=(983, 984), match='0'>, <re.Match object; span=(985, 986), match='0'>, <re.Match object; span=(986, 987), match='0'>, <re.Match object; span=(987, 988), match='0'>, <re.Match object; span=(1030, 1031), match='3'>, <re.Match object; span=(1031, 1032), match='3'>, <re.Match object; span=(1032, 1033), match='3'>, <re.Match object; span=(1033, 1034), match='3'>, <re.Match object; span=(1040, 1041), match='9'>, <re.Match object; span=(1041, 1042), match='9'>, <re.Match object; span=(1042, 1043), match='9'>, <re.Match object; span=(1043, 1044), match='9'>, <re.Match object; span=(1050, 1051), match='8'>, <re.Match object; span=(1051, 1052), match='8'>, <re.Match object; span=(1052, 1053), match='8'>, <re.Match object; span=(1053, 1054), match='8'>, <re.Match object; span=(1060, 1061), match='6'>, <re.Match object; span=(1061, 1062), match='7'>, <re.Match object; span=(1062, 1063), match='7'>, <re.Match object; span=(1063, 1064), match='6'>, <re.Match object; span=(1070, 1071), match='2'>, <re.Match object; span=(1071, 1072), match='3'>, <re.Match object; span=(1072, 1073), match='3'>, <re.Match object; span=(1073, 1074), match='2'>, <re.Match object; span=(1080, 1081), match='3'>, <re.Match object; span=(1081, 1082), match='3'>, <re.Match object; span=(1082, 1083), match='2'>, <re.Match object; span=(1083, 1084), match='3'>, <re.Match object; span=(1090, 1091), match='4'>, <re.Match object; span=(1091, 1092), match='3'>, <re.Match object; span=(1092, 1093), match='4'>, <re.Match object; span=(1093, 1094), match='3'>, <re.Match object; span=(1248, 1249), match='7'>, <re.Match object; span=(1250, 1251), match='7'>, <re.Match object; span=(1254, 1255), match='1'>, <re.Match object; span=(1255, 1256), match='0'>, <re.Match object; span=(1259, 1260), match='2'>, <re.Match object; span=(1262, 1263), match='3'>, <re.Match object; span=(1276, 1277), match='1'>, <re.Match object; span=(1278, 1279), match='2'>, <re.Match object; span=(1279, 1280), match='0'>, <re.Match object; span=(1280, 1281), match='4'>, <re.Match object; span=(1284, 1285), match='1'>, <re.Match object; span=(1285, 1286), match='0'>, <re.Match object; span=(1289, 1290), match='3'>, <re.Match object; span=(1292, 1293), match='3'>, <re.Match object; span=(1298, 1299), match='2'>, <re.Match object; span=(1304, 1305), match='3'>, <re.Match object; span=(1306, 1307), match='3'>, <re.Match object; span=(1310, 1311), match='1'>, <re.Match object; span=(1311, 1312), match='0'>, <re.Match object; span=(1315, 1316), match='7'>, <re.Match object; span=(1428, 1429), match='1'>, <re.Match object; span=(1429, 1430), match='0'>, <re.Match object; span=(1496, 1497), match='7'>, <re.Match object; span=(1498, 1499), match='7'>, <re.Match object; span=(1502, 1503), match='2'>, <re.Match object; span=(1509, 1510), match='1'>, <re.Match object; span=(1511, 1512), match='2'>, <re.Match object; span=(1515, 1516), match='3'>, <re.Match object; span=(1522, 1523), match='3'>, <re.Match object; span=(1524, 1525), match='3'>, <re.Match object; span=(1528, 1529), match='7'>]\n"
     ]
    }
   ],
   "source": [
    "sample=re.compile('\\d')\n",
    "print(list(sample.finditer(paragraph))) #finding all digits"
   ]
  },
  {
   "cell_type": "code",
   "execution_count": 20,
   "metadata": {},
   "outputs": [
    {
     "name": "stdout",
     "output_type": "stream",
     "text": [
      "Found the starting of the sentence at: [<re.Match object; span=(0, 0), match=''>]\n",
      "Found the starting of the sentence at: [<re.Match object; span=(0, 1), match='M'>]\n"
     ]
    }
   ],
   "source": [
    "sent='Mario may not be my favorite game but I still love playing it!'\n",
    "sample=re.compile('^') #for finding the beginning of the sentence\n",
    "print('Found the starting of the sentence at:',list(sample.finditer(sent)))\n",
    "sample=re.compile('^M')\n",
    "print('Found the starting of the sentence at:',list(sample.finditer(sent)))"
   ]
  },
  {
   "cell_type": "code",
   "execution_count": 21,
   "metadata": {},
   "outputs": [
    {
     "name": "stdout",
     "output_type": "stream",
     "text": [
      "Found the starting of the sentence at: [<re.Match object; span=(59, 62), match='it!'>]\n"
     ]
    }
   ],
   "source": [
    "sample=re.compile('it!$') #for ending of the sentences\n",
    "print('Found the starting of the sentence at:',list(sample.finditer(sent)))"
   ]
  },
  {
   "cell_type": "code",
   "execution_count": 22,
   "metadata": {},
   "outputs": [],
   "source": [
    "#trying to find out contact numbers from this dummy data\n",
    "data='''Dave Martin\n",
    "615-555-7164\n",
    "173 Main St., Springfield RI 55924\n",
    "davemartin@bogusemail.com\n",
    "\n",
    "Charles Harris\n",
    "800-555-5669\n",
    "969 High St., Atlantis VA 34075\n",
    "charlesharris@bogusemail.com\n",
    "\n",
    "Eric Williams\n",
    "560-555-5153\n",
    "806 1st St., Faketown AK 86847\n",
    "laurawilliams@bogusemail.com\n",
    "\n",
    "Corey Jefferson\n",
    "900-555-9340\n",
    "826 Elm St., Epicburg NE 10671\n",
    "coreyjefferson@bogusemail.com\n",
    "\n",
    "Jennifer Martin-White\n",
    "714-555-7405\n",
    "212 Cedar St., Sunnydale CT 74983\n",
    "jenniferwhite@bogusemail.com\n",
    "\n",
    "Erick Davis\n",
    "800-555-6771\n",
    "519 Washington St., Olympus TN 32425\n",
    "tomdavis@bogusemail.com\n",
    "\n",
    "Neil Patterson\n",
    "783-555-4799\n",
    "625 Oak St., Dawnstar IL 61914\n",
    "neilpatterson@bogusemail.com\n",
    "\n",
    "'''"
   ]
  },
  {
   "cell_type": "code",
   "execution_count": 31,
   "metadata": {},
   "outputs": [
    {
     "name": "stdout",
     "output_type": "stream",
     "text": [
      "<re.Match object; span=(12, 24), match='615-555-7164'>\n",
      "<re.Match object; span=(102, 114), match='800-555-5669'>\n",
      "<re.Match object; span=(191, 203), match='560-555-5153'>\n",
      "<re.Match object; span=(281, 293), match='900-555-9340'>\n",
      "<re.Match object; span=(378, 390), match='714-555-7405'>\n",
      "<re.Match object; span=(467, 479), match='800-555-6771'>\n",
      "<re.Match object; span=(557, 569), match='783-555-4799'>\n"
     ]
    }
   ],
   "source": [
    "#we see the contact details are in the form of XXX-XXX-XXXX\n",
    "contacts=re.compile('\\d\\d\\d-\\d\\d\\d-\\d\\d\\d\\d')\n",
    "matches=contacts.finditer(data)\n",
    "for match in matches:\n",
    "    print(match)"
   ]
  },
  {
   "cell_type": "code",
   "execution_count": 40,
   "metadata": {},
   "outputs": [
    {
     "name": "stdout",
     "output_type": "stream",
     "text": [
      "<re.Match object; span=(102, 114), match='800-555-5669'>\n",
      "<re.Match object; span=(281, 293), match='900-555-9340'>\n",
      "<re.Match object; span=(467, 479), match='800-555-6771'>\n"
     ]
    }
   ],
   "source": [
    "#printing the contact numbers starting from 8 or 9\n",
    "contacts=re.compile('[89]\\d\\d-\\d\\d\\d-\\d\\d\\d\\d')\n",
    "matches=contacts.finditer(data)\n",
    "for match in matches:\n",
    "    print(match)"
   ]
  },
  {
   "cell_type": "code",
   "execution_count": 42,
   "metadata": {},
   "outputs": [
    {
     "name": "stdout",
     "output_type": "stream",
     "text": [
      "<re.Match object; span=(102, 114), match='800-555-5669'>\n",
      "<re.Match object; span=(281, 293), match='900-555-9340'>\n",
      "<re.Match object; span=(467, 479), match='800-555-6771'>\n"
     ]
    }
   ],
   "source": [
    "#printing the nubers with range of values from 8 to 9, output would be same as above\n",
    "contacts=re.compile('[8-9]\\d\\d-\\d\\d\\d-\\d\\d\\d\\d')\n",
    "matches=contacts.finditer(data)\n",
    "for match in matches:\n",
    "    print(match)"
   ]
  },
  {
   "cell_type": "code",
   "execution_count": 43,
   "metadata": {},
   "outputs": [
    {
     "name": "stdout",
     "output_type": "stream",
     "text": [
      "<re.Match object; span=(12, 24), match='615-555-7164'>\n",
      "<re.Match object; span=(191, 203), match='560-555-5153'>\n",
      "<re.Match object; span=(378, 390), match='714-555-7405'>\n",
      "<re.Match object; span=(557, 569), match='783-555-4799'>\n"
     ]
    }
   ],
   "source": [
    "#now printing every contact which doesn't start with 8 or 9\n",
    "contacts=re.compile('[^8-9]\\d\\d-\\d\\d\\d-\\d\\d\\d\\d')\n",
    "matches=contacts.finditer(data)\n",
    "for match in matches:\n",
    "    print(match)"
   ]
  },
  {
   "cell_type": "code",
   "execution_count": 50,
   "metadata": {},
   "outputs": [
    {
     "name": "stdout",
     "output_type": "stream",
     "text": [
      "re.compile('[^89]\\\\d\\\\d-\\\\d\\\\d\\\\d-\\\\d\\\\d\\\\d\\\\d')\n",
      "<re.Match object; span=(12, 24), match='615-555-7164'>\n",
      "<re.Match object; span=(191, 203), match='560-555-5153'>\n",
      "<re.Match object; span=(378, 390), match='714-555-7405'>\n",
      "<re.Match object; span=(557, 569), match='783-555-4799'>\n"
     ]
    }
   ],
   "source": [
    "contacts=re.compile('[^89]\\d\\d-\\d\\d\\d-\\d\\d\\d\\d')\n",
    "print(contacts)\n",
    "matches=contacts.finditer(data)\n",
    "for match in matches:\n",
    "    print(match)"
   ]
  },
  {
   "cell_type": "code",
   "execution_count": 56,
   "metadata": {},
   "outputs": [
    {
     "name": "stdout",
     "output_type": "stream",
     "text": [
      "<re.Match object; span=(0, 11), match='123.456.456'>\n",
      "<re.Match object; span=(14, 25), match='147*852*369'>\n",
      "<re.Match object; span=(28, 39), match='789-123-456'>\n"
     ]
    }
   ],
   "source": [
    "detail=\"\"\"123.456.456, \n",
    "147*852*369, \n",
    "789-123-456\"\"\"\n",
    "#here we have a different seperator for a different contact [.,-,*]\n",
    "contacts=re.compile('\\d\\d\\d.\\d\\d\\d.\\d\\d\\d')\n",
    "#print(contacts)\n",
    "matches=contacts.finditer(detail)\n",
    "for match in matches:\n",
    "    print(match)"
   ]
  },
  {
   "cell_type": "code",
   "execution_count": 57,
   "metadata": {},
   "outputs": [
    {
     "name": "stdout",
     "output_type": "stream",
     "text": [
      "<re.Match object; span=(14, 25), match='147*852*369'>\n",
      "<re.Match object; span=(28, 39), match='789-123-456'>\n"
     ]
    }
   ],
   "source": [
    "#now I want only a specific type of seperator\n",
    "contacts=re.compile('\\d\\d\\d[-*]\\d\\d\\d[*-]\\d\\d\\d') #order of *,- doesn't matters inside the square brackers->[]\n",
    "#print(contacts)\n",
    "matches=contacts.finditer(detail)\n",
    "for match in matches:\n",
    "    print(match)"
   ]
  },
  {
   "cell_type": "code",
   "execution_count": 63,
   "metadata": {},
   "outputs": [
    {
     "name": "stdout",
     "output_type": "stream",
     "text": [
      "<re.Match object; span=(12, 24), match='615-555-7164'>\n",
      "<re.Match object; span=(102, 114), match='800-555-5669'>\n",
      "<re.Match object; span=(191, 203), match='560-555-5153'>\n",
      "<re.Match object; span=(281, 293), match='900-555-9340'>\n",
      "<re.Match object; span=(378, 390), match='714-555-7405'>\n",
      "<re.Match object; span=(467, 479), match='800-555-6771'>\n",
      "<re.Match object; span=(557, 569), match='783-555-4799'>\n"
     ]
    }
   ],
   "source": [
    "#we can use quantifiers for fetching the numbers\n",
    "contact=re.compile(r'\\d{3}.\\d{3}.\\d{4}') #\\d{3}=3 times \\d=\\d\\d\\d\n",
    "matches=contact.finditer(data)\n",
    "for match in matches:\n",
    "    print(match)"
   ]
  },
  {
   "cell_type": "code",
   "execution_count": 75,
   "metadata": {},
   "outputs": [],
   "source": [
    "names='''Mr. Jones\n",
    "Ms. Sussie\n",
    "Mr Ramesh\n",
    "Mrs. Sita\n",
    "Mr. X'''"
   ]
  },
  {
   "cell_type": "code",
   "execution_count": 74,
   "metadata": {},
   "outputs": [
    {
     "name": "stdout",
     "output_type": "stream",
     "text": [
      "<re.Match object; span=(0, 9), match='Mr. Jones'>\n",
      "<re.Match object; span=(22, 31), match='Mr Ramesh'>\n",
      "<re.Match object; span=(42, 47), match='Mr. X'>\n"
     ]
    }
   ],
   "source": [
    "pattern=re.compile('Mr\\.?\\s[A-Za-z]{1,10}')\n",
    "matches=pattern.finditer(names)\n",
    "for match in matches:\n",
    "    print(match)"
   ]
  },
  {
   "cell_type": "code",
   "execution_count": 79,
   "metadata": {},
   "outputs": [
    {
     "name": "stdout",
     "output_type": "stream",
     "text": [
      "<re.Match object; span=(0, 9), match='Mr. Jones'>\n",
      "<re.Match object; span=(10, 20), match='Ms. Sussie'>\n",
      "<re.Match object; span=(21, 30), match='Mr Ramesh'>\n",
      "<re.Match object; span=(31, 40), match='Mrs. Sita'>\n",
      "<re.Match object; span=(41, 46), match='Mr. X'>\n"
     ]
    }
   ],
   "source": [
    "pattern=re.compile(r'(Mr|Mrs|Ms)\\.?\\s[A-Za-z]{1,10}')\n",
    "matches=pattern.finditer(names)\n",
    "for match in matches:\n",
    "    print(match)"
   ]
  },
  {
   "cell_type": "code",
   "execution_count": 81,
   "metadata": {},
   "outputs": [
    {
     "name": "stdout",
     "output_type": "stream",
     "text": [
      "<re.Match object; span=(60, 85), match='davemartin@bogusemail.com'>\n",
      "<re.Match object; span=(147, 175), match='charlesharris@bogusemail.com'>\n",
      "<re.Match object; span=(235, 263), match='laurawilliams@bogusemail.com'>\n",
      "<re.Match object; span=(325, 354), match='coreyjefferson@bogusemail.com'>\n",
      "<re.Match object; span=(425, 453), match='jenniferwhite@bogusemail.com'>\n",
      "<re.Match object; span=(517, 540), match='tomdavis@bogusemail.com'>\n",
      "<re.Match object; span=(601, 629), match='neilpatterson@bogusemail.com'>\n"
     ]
    }
   ],
   "source": [
    "#now let us try to find out email ids\n",
    "emails=re.compile(r'[a-zA-Z0-9_.+-]+@[a-zA-Z0-9-]+\\.[a-zA-Z0-9-.]+')\n",
    "#print(emails)\n",
    "matches=emails.finditer(data)\n",
    "for match in matches:\n",
    "    print(match)"
   ]
  },
  {
   "cell_type": "code",
   "execution_count": 82,
   "metadata": {},
   "outputs": [
    {
     "name": "stdout",
     "output_type": "stream",
     "text": [
      "<re.Match object; span=(60, 85), match='davemartin@bogusemail.com'>\n",
      "<re.Match object; span=(147, 175), match='charlesharris@bogusemail.com'>\n",
      "<re.Match object; span=(235, 263), match='laurawilliams@bogusemail.com'>\n",
      "<re.Match object; span=(325, 354), match='coreyjefferson@bogusemail.com'>\n",
      "<re.Match object; span=(425, 453), match='jenniferwhite@bogusemail.com'>\n",
      "<re.Match object; span=(517, 540), match='tomdavis@bogusemail.com'>\n",
      "<re.Match object; span=(601, 629), match='neilpatterson@bogusemail.com'>\n"
     ]
    }
   ],
   "source": [
    "emails=re.compile(r'[a-zA-Z0-9]{1,25}@[a-z]{1,10}\\.[a-z]{1,4}')\n",
    "matches=emails.finditer(data)\n",
    "for match in matches:\n",
    "    print(match)"
   ]
  },
  {
   "cell_type": "code",
   "execution_count": null,
   "metadata": {},
   "outputs": [],
   "source": []
  }
 ],
 "metadata": {
  "kernelspec": {
   "display_name": "Python 3",
   "language": "python",
   "name": "python3"
  },
  "language_info": {
   "codemirror_mode": {
    "name": "ipython",
    "version": 3
   },
   "file_extension": ".py",
   "mimetype": "text/x-python",
   "name": "python",
   "nbconvert_exporter": "python",
   "pygments_lexer": "ipython3",
   "version": "3.7.4"
  }
 },
 "nbformat": 4,
 "nbformat_minor": 2
}
